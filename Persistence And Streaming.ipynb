{
 "cells": [
  {
   "cell_type": "code",
   "id": "initial_id",
   "metadata": {
    "collapsed": true,
    "ExecuteTime": {
     "end_time": "2025-01-30T19:08:25.502252Z",
     "start_time": "2025-01-30T19:08:25.476184Z"
    }
   },
   "source": [
    "from dotenv import load_dotenv\n",
    "load_dotenv()"
   ],
   "outputs": [
    {
     "data": {
      "text/plain": [
       "True"
      ]
     },
     "execution_count": 1,
     "metadata": {},
     "output_type": "execute_result"
    }
   ],
   "execution_count": 1
  },
  {
   "metadata": {
    "ExecuteTime": {
     "end_time": "2025-01-30T19:08:33.081123Z",
     "start_time": "2025-01-30T19:08:31.082273Z"
    }
   },
   "cell_type": "code",
   "source": [
    "from langgraph.graph import StateGraph, END\n",
    "from typing import TypedDict, Annotated\n",
    "import operator\n",
    "from langchain_core.messages import AnyMessage, SystemMessage, HumanMessage, ToolMessage\n",
    "from langchain_openai import ChatOpenAI\n",
    "from langchain_community.tools.tavily_search import TavilySearchResults"
   ],
   "id": "148f9416aaaf17d6",
   "outputs": [],
   "execution_count": 2
  },
  {
   "metadata": {
    "ExecuteTime": {
     "end_time": "2025-01-30T19:08:39.851330Z",
     "start_time": "2025-01-30T19:08:39.847091Z"
    }
   },
   "cell_type": "code",
   "source": "tool = TavilySearchResults(max_results=2)",
   "id": "886021686b81d5d2",
   "outputs": [],
   "execution_count": 3
  },
  {
   "metadata": {
    "ExecuteTime": {
     "end_time": "2025-01-30T19:08:49.786525Z",
     "start_time": "2025-01-30T19:08:49.779745Z"
    }
   },
   "cell_type": "code",
   "source": [
    "class AgentState(TypedDict):\n",
    "    messages: Annotated[list[AnyMessage], operator.add]"
   ],
   "id": "78bd262650ac7f08",
   "outputs": [],
   "execution_count": 4
  },
  {
   "metadata": {
    "ExecuteTime": {
     "end_time": "2025-01-30T19:10:51.815458Z",
     "start_time": "2025-01-30T19:10:51.809475Z"
    }
   },
   "cell_type": "code",
   "source": [
    "from langgraph.checkpoint.sqlite import SqliteSaver\n",
    "memory = SqliteSaver.from_conn_string(\":memory:\")"
   ],
   "id": "67ea0922752ef130",
   "outputs": [],
   "execution_count": 6
  },
  {
   "metadata": {
    "ExecuteTime": {
     "end_time": "2025-01-30T19:11:34.110673Z",
     "start_time": "2025-01-30T19:11:34.100591Z"
    }
   },
   "cell_type": "code",
   "source": [
    "class Agent:\n",
    "    def __init__(self, model, tools, checkpointer, system=\"\"):\n",
    "        self.system = system\n",
    "        graph = StateGraph(AgentState)\n",
    "        graph.add_node(\"llm\", self.call_openai)\n",
    "        graph.add_node(\"action\", self.take_action)\n",
    "        graph.add_conditional_edges(\"llm\", self.exists_action, {True: \"action\", False: END})\n",
    "        graph.add_edge(\"action\", \"llm\")\n",
    "        graph.set_entry_point(\"llm\")\n",
    "        self.graph = graph.compile(checkpointer=checkpointer)\n",
    "        self.tools = {t.name: t for t in tools}\n",
    "        self.model = model.bind_tools(tools)\n",
    "\n",
    "    def call_openai(self, state: AgentState):\n",
    "        messages = state['messages']\n",
    "        if self.system:\n",
    "            messages = [SystemMessage(content=self.system)] + messages\n",
    "        message = self.model.invoke(messages)\n",
    "        return {'messages': [message]}\n",
    "\n",
    "    def exists_action(self, state: AgentState):\n",
    "        result = state['messages'][-1]\n",
    "        return len(result.tool_calls) > 0\n",
    "\n",
    "    def take_action(self, state: AgentState):\n",
    "        tool_calls = state['messages'][-1].tool_calls\n",
    "        results = []\n",
    "        for t in tool_calls:\n",
    "            print(f\"Calling: {t}\")\n",
    "            result = self.tools[t['name']].invoke(t['args'])\n",
    "            results.append(ToolMessage(tool_call_id=t['id'], name=t['name'], content=str(result)))\n",
    "        print(\"Back to the model!\")\n",
    "        return {'messages': results}"
   ],
   "id": "a28c070d2d6218c2",
   "outputs": [],
   "execution_count": 7
  },
  {
   "metadata": {
    "ExecuteTime": {
     "end_time": "2025-01-30T19:11:47.222013Z",
     "start_time": "2025-01-30T19:11:46.341907Z"
    }
   },
   "cell_type": "code",
   "source": [
    "prompt = \"\"\"You are a smart research assistant. Use the search engine to look up information. \\\n",
    "You are allowed to make multiple calls (either together or in sequence). \\\n",
    "Only look up information when you are sure of what you want. \\\n",
    "If you need to look up some information before asking a follow up question, you are allowed to do that!\n",
    "\"\"\"\n",
    "model = ChatOpenAI(model=\"gpt-4o\")\n",
    "abot = Agent(model, [tool], system=prompt, checkpointer=memory)"
   ],
   "id": "c030d19bfa72d73c",
   "outputs": [],
   "execution_count": 8
  },
  {
   "metadata": {
    "ExecuteTime": {
     "end_time": "2025-01-30T19:13:05.083522Z",
     "start_time": "2025-01-30T19:13:05.080192Z"
    }
   },
   "cell_type": "code",
   "source": "messages = [HumanMessage(content=\"What is the weather in sf?\")]",
   "id": "be4ae21e52fa998c",
   "outputs": [],
   "execution_count": 9
  },
  {
   "metadata": {
    "ExecuteTime": {
     "end_time": "2025-01-30T19:14:49.054278Z",
     "start_time": "2025-01-30T19:14:49.049791Z"
    }
   },
   "cell_type": "code",
   "source": "thread = {\"configurable\": {\"thread_id\":\"1\"}}",
   "id": "95878169c09c37c8",
   "outputs": [],
   "execution_count": 10
  },
  {
   "metadata": {
    "ExecuteTime": {
     "end_time": "2025-01-30T19:15:50.906179Z",
     "start_time": "2025-01-30T19:15:41.902412Z"
    }
   },
   "cell_type": "code",
   "source": [
    "for event in abot.graph.stream({\"messages\":messages}, thread):\n",
    "    for v in event.values():\n",
    "        print(v['messages'])"
   ],
   "id": "bd54c0de5bd27539",
   "outputs": [
    {
     "name": "stdout",
     "output_type": "stream",
     "text": [
      "[AIMessage(content='', additional_kwargs={'tool_calls': [{'id': 'call_Fwo7LPHgtTezultpKZXRMYWs', 'function': {'arguments': '{\"query\":\"current weather in San Francisco\"}', 'name': 'tavily_search_results_json'}, 'type': 'function'}]}, response_metadata={'token_usage': {'completion_tokens': 23, 'prompt_tokens': 151, 'total_tokens': 174, 'completion_tokens_details': {'accepted_prediction_tokens': 0, 'audio_tokens': 0, 'reasoning_tokens': 0, 'rejected_prediction_tokens': 0}, 'prompt_tokens_details': {'audio_tokens': 0, 'cached_tokens': 0}}, 'model_name': 'gpt-4o-2024-08-06', 'system_fingerprint': 'fp_50cad350e4', 'finish_reason': 'tool_calls', 'logprobs': None}, id='run-00253568-3259-4a18-87d0-e92a1185d418-0', tool_calls=[{'name': 'tavily_search_results_json', 'args': {'query': 'current weather in San Francisco'}, 'id': 'call_Fwo7LPHgtTezultpKZXRMYWs', 'type': 'tool_call'}], usage_metadata={'input_tokens': 151, 'output_tokens': 23, 'total_tokens': 174})]\n",
      "Calling: {'name': 'tavily_search_results_json', 'args': {'query': 'current weather in San Francisco'}, 'id': 'call_Fwo7LPHgtTezultpKZXRMYWs', 'type': 'tool_call'}\n",
      "Back to the model!\n",
      "[ToolMessage(content='[{\\'url\\': \\'https://www.weatherapi.com/\\', \\'content\\': \"{\\'location\\': {\\'name\\': \\'San Francisco\\', \\'region\\': \\'California\\', \\'country\\': \\'United States of America\\', \\'lat\\': 37.775, \\'lon\\': -122.4183, \\'tz_id\\': \\'America/Los_Angeles\\', \\'localtime_epoch\\': 1738264483, \\'localtime\\': \\'2025-01-30 11:14\\'}, \\'current\\': {\\'last_updated_epoch\\': 1738263600, \\'last_updated\\': \\'2025-01-30 11:00\\', \\'temp_c\\': 10.6, \\'temp_f\\': 51.1, \\'is_day\\': 1, \\'condition\\': {\\'text\\': \\'Partly cloudy\\', \\'icon\\': \\'//cdn.weatherapi.com/weather/64x64/day/116.png\\', \\'code\\': 1003}, \\'wind_mph\\': 3.1, \\'wind_kph\\': 5.0, \\'wind_degree\\': 268, \\'wind_dir\\': \\'W\\', \\'pressure_mb\\': 1026.0, \\'pressure_in\\': 30.29, \\'precip_mm\\': 0.0, \\'precip_in\\': 0.0, \\'humidity\\': 74, \\'cloud\\': 75, \\'feelslike_c\\': 10.4, \\'feelslike_f\\': 50.8, \\'windchill_c\\': 7.2, \\'windchill_f\\': 44.9, \\'heatindex_c\\': 7.2, \\'heatindex_f\\': 45.0, \\'dewpoint_c\\': 6.4, \\'dewpoint_f\\': 43.6, \\'vis_km\\': 16.0, \\'vis_miles\\': 9.0, \\'uv\\': 2.0, \\'gust_mph\\': 4.1, \\'gust_kph\\': 6.6}}\"}, {\\'url\\': \\'https://weathershogun.com/weather/usa/ca/san-francisco/480/january/2025-01-30\\', \\'content\\': \\'San Francisco, California weather forecast for Thursday, January 30, 2025. Get the latest on temperature, precipitation, wind speed, and UV. ... Today Tomorrow Hourly 7 days 30 days January San Francisco, California Weather: Thursday, January 30, 2025. Rainy weather, precipitation in the form of water droplets falling from the sky.\\'}]', name='tavily_search_results_json', tool_call_id='call_Fwo7LPHgtTezultpKZXRMYWs')]\n",
      "[AIMessage(content='The current weather in San Francisco is partly cloudy with a temperature of 10.6°C (51.1°F). The wind is blowing from the west at 3.1 mph (5.0 kph), and the humidity is at 74%. The weather feels like 10.4°C (50.8°F) with a visibility of 16 km (9 miles) and a UV index of 2. There is no precipitation at the moment.', response_metadata={'token_usage': {'completion_tokens': 96, 'prompt_tokens': 703, 'total_tokens': 799, 'completion_tokens_details': {'accepted_prediction_tokens': 0, 'audio_tokens': 0, 'reasoning_tokens': 0, 'rejected_prediction_tokens': 0}, 'prompt_tokens_details': {'audio_tokens': 0, 'cached_tokens': 0}}, 'model_name': 'gpt-4o-2024-08-06', 'system_fingerprint': 'fp_50cad350e4', 'finish_reason': 'stop', 'logprobs': None}, id='run-14c84001-947a-42fe-a436-c09c1bf55398-0', usage_metadata={'input_tokens': 703, 'output_tokens': 96, 'total_tokens': 799})]\n"
     ]
    }
   ],
   "execution_count": 12
  },
  {
   "metadata": {
    "ExecuteTime": {
     "end_time": "2025-01-30T19:16:50.461879Z",
     "start_time": "2025-01-30T19:16:41.403250Z"
    }
   },
   "cell_type": "code",
   "source": [
    "messages = [HumanMessage(content=\"What about in la?\")]\n",
    "thread = {\"configurable\": {\"thread_id\": \"1\"}}\n",
    "for event in abot.graph.stream({\"messages\": messages}, thread):\n",
    "    for v in event.values():\n",
    "        print(v)"
   ],
   "id": "3a4f29ece4790840",
   "outputs": [
    {
     "name": "stdout",
     "output_type": "stream",
     "text": [
      "{'messages': [AIMessage(content='', additional_kwargs={'tool_calls': [{'id': 'call_k7jBQrq07Q5j2xNoBlZON6uc', 'function': {'arguments': '{\"query\":\"current weather in Los Angeles\"}', 'name': 'tavily_search_results_json'}, 'type': 'function'}]}, response_metadata={'token_usage': {'completion_tokens': 23, 'prompt_tokens': 810, 'total_tokens': 833, 'completion_tokens_details': {'accepted_prediction_tokens': 0, 'audio_tokens': 0, 'reasoning_tokens': 0, 'rejected_prediction_tokens': 0}, 'prompt_tokens_details': {'audio_tokens': 0, 'cached_tokens': 0}}, 'model_name': 'gpt-4o-2024-08-06', 'system_fingerprint': 'fp_50cad350e4', 'finish_reason': 'tool_calls', 'logprobs': None}, id='run-8fdb00bd-66d4-4f1f-896d-5c6a04e51e8b-0', tool_calls=[{'name': 'tavily_search_results_json', 'args': {'query': 'current weather in Los Angeles'}, 'id': 'call_k7jBQrq07Q5j2xNoBlZON6uc', 'type': 'tool_call'}], usage_metadata={'input_tokens': 810, 'output_tokens': 23, 'total_tokens': 833})]}\n",
      "Calling: {'name': 'tavily_search_results_json', 'args': {'query': 'current weather in Los Angeles'}, 'id': 'call_k7jBQrq07Q5j2xNoBlZON6uc', 'type': 'tool_call'}\n",
      "Back to the model!\n",
      "{'messages': [ToolMessage(content='[{\\'url\\': \\'https://www.weatherapi.com/\\', \\'content\\': \"{\\'location\\': {\\'name\\': \\'Los Angeles\\', \\'region\\': \\'California\\', \\'country\\': \\'United States of America\\', \\'lat\\': 34.0522, \\'lon\\': -118.2428, \\'tz_id\\': \\'America/Los_Angeles\\', \\'localtime_epoch\\': 1738264551, \\'localtime\\': \\'2025-01-30 11:15\\'}, \\'current\\': {\\'last_updated_epoch\\': 1738263600, \\'last_updated\\': \\'2025-01-30 11:00\\', \\'temp_c\\': 13.3, \\'temp_f\\': 55.9, \\'is_day\\': 1, \\'condition\\': {\\'text\\': \\'Overcast\\', \\'icon\\': \\'//cdn.weatherapi.com/weather/64x64/day/122.png\\', \\'code\\': 1009}, \\'wind_mph\\': 4.3, \\'wind_kph\\': 6.8, \\'wind_degree\\': 143, \\'wind_dir\\': \\'SE\\', \\'pressure_mb\\': 1025.0, \\'pressure_in\\': 30.27, \\'precip_mm\\': 0.0, \\'precip_in\\': 0.0, \\'humidity\\': 67, \\'cloud\\': 100, \\'feelslike_c\\': 13.1, \\'feelslike_f\\': 55.6, \\'windchill_c\\': 10.0, \\'windchill_f\\': 50.0, \\'heatindex_c\\': 10.1, \\'heatindex_f\\': 50.2, \\'dewpoint_c\\': 4.8, \\'dewpoint_f\\': 40.6, \\'vis_km\\': 11.0, \\'vis_miles\\': 6.0, \\'uv\\': 2.6, \\'gust_mph\\': 5.0, \\'gust_kph\\': 8.0}}\"}, {\\'url\\': \\'https://forecast.weather.gov/product.php?site=NWS&product=CLI&issuedby=LAX\\', \\'content\\': \\'the los angeles intl airport ca climate normals for tomorrow normal record year maximum temperature (f) 66 83 1992 minimum temperature (f) 50 36 1945 sunrise and sunset january 29 2025.....sunrise 6:52 am pst sunset 5:22 pm pst january 30 2025.....sunrise 6:52 am pst sunset 5:23 pm pst - indicates negative numbers.\\'}]', name='tavily_search_results_json', tool_call_id='call_k7jBQrq07Q5j2xNoBlZON6uc')]}\n",
      "{'messages': [AIMessage(content='The current weather in Los Angeles is overcast with a temperature of 13.3°C (55.9°F). The wind is coming from the southeast at 4.3 mph (6.8 kph), and the humidity level is 67%. The weather feels like 13.1°C (55.6°F) with a visibility of 11 km (6 miles) and a UV index of 2.6. There is no precipitation at the moment.', response_metadata={'token_usage': {'completion_tokens': 98, 'prompt_tokens': 1368, 'total_tokens': 1466, 'completion_tokens_details': {'accepted_prediction_tokens': 0, 'audio_tokens': 0, 'reasoning_tokens': 0, 'rejected_prediction_tokens': 0}, 'prompt_tokens_details': {'audio_tokens': 0, 'cached_tokens': 0}}, 'model_name': 'gpt-4o-2024-08-06', 'system_fingerprint': 'fp_50cad350e4', 'finish_reason': 'stop', 'logprobs': None}, id='run-a34d51eb-706e-430f-ac54-fc1aa19c79e2-0', usage_metadata={'input_tokens': 1368, 'output_tokens': 98, 'total_tokens': 1466})]}\n"
     ]
    }
   ],
   "execution_count": 13
  },
  {
   "metadata": {
    "ExecuteTime": {
     "end_time": "2025-01-30T19:17:55.998306Z",
     "start_time": "2025-01-30T19:17:52.875474Z"
    }
   },
   "cell_type": "code",
   "source": [
    "messages = [HumanMessage(content=\"Which one is warmer?\")]\n",
    "thread = {\"configurable\": {\"thread_id\": \"1\"}}\n",
    "for event in abot.graph.stream({\"messages\": messages}, thread):\n",
    "    for v in event.values():\n",
    "        print(v)"
   ],
   "id": "56e3c3d39ad889b9",
   "outputs": [
    {
     "name": "stdout",
     "output_type": "stream",
     "text": [
      "{'messages': [AIMessage(content='Los Angeles is currently warmer than San Francisco. The temperature in Los Angeles is 13.3°C (55.9°F), while in San Francisco it is 10.6°C (51.1°F).', response_metadata={'token_usage': {'completion_tokens': 45, 'prompt_tokens': 1477, 'total_tokens': 1522, 'completion_tokens_details': {'accepted_prediction_tokens': 0, 'audio_tokens': 0, 'reasoning_tokens': 0, 'rejected_prediction_tokens': 0}, 'prompt_tokens_details': {'audio_tokens': 0, 'cached_tokens': 1408}}, 'model_name': 'gpt-4o-2024-08-06', 'system_fingerprint': 'fp_50cad350e4', 'finish_reason': 'stop', 'logprobs': None}, id='run-567694f8-0f0a-404c-9d8b-fc99e790688a-0', usage_metadata={'input_tokens': 1477, 'output_tokens': 45, 'total_tokens': 1522})]}\n"
     ]
    }
   ],
   "execution_count": 14
  },
  {
   "metadata": {
    "ExecuteTime": {
     "end_time": "2025-01-30T19:18:29.842149Z",
     "start_time": "2025-01-30T19:18:26.956923Z"
    }
   },
   "cell_type": "code",
   "source": [
    "messages = [HumanMessage(content=\"Which one is warmer?\")]\n",
    "thread = {\"configurable\": {\"thread_id\": \"2\"}}\n",
    "for event in abot.graph.stream({\"messages\": messages}, thread):\n",
    "    for v in event.values():\n",
    "        print(v)"
   ],
   "id": "ee64b8340bf5a1f7",
   "outputs": [
    {
     "name": "stdout",
     "output_type": "stream",
     "text": [
      "{'messages': [AIMessage(content='Could you please specify what you are comparing to determine which one is warmer? For example, are you comparing two cities, two countries, two materials, etc.?', response_metadata={'token_usage': {'completion_tokens': 34, 'prompt_tokens': 149, 'total_tokens': 183, 'completion_tokens_details': {'accepted_prediction_tokens': 0, 'audio_tokens': 0, 'reasoning_tokens': 0, 'rejected_prediction_tokens': 0}, 'prompt_tokens_details': {'audio_tokens': 0, 'cached_tokens': 0}}, 'model_name': 'gpt-4o-2024-08-06', 'system_fingerprint': 'fp_50cad350e4', 'finish_reason': 'stop', 'logprobs': None}, id='run-d2a4b441-9354-4101-b94d-464bfe30e991-0', usage_metadata={'input_tokens': 149, 'output_tokens': 34, 'total_tokens': 183})]}\n"
     ]
    }
   ],
   "execution_count": 15
  }
 ],
 "metadata": {
  "kernelspec": {
   "display_name": "Python 3",
   "language": "python",
   "name": "python3"
  },
  "language_info": {
   "codemirror_mode": {
    "name": "ipython",
    "version": 2
   },
   "file_extension": ".py",
   "mimetype": "text/x-python",
   "name": "python",
   "nbconvert_exporter": "python",
   "pygments_lexer": "ipython2",
   "version": "2.7.6"
  }
 },
 "nbformat": 4,
 "nbformat_minor": 5
}
