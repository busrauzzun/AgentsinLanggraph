{
 "cells": [
  {
   "cell_type": "code",
   "id": "initial_id",
   "metadata": {
    "collapsed": true,
    "ExecuteTime": {
     "end_time": "2025-02-01T09:51:24.176640Z",
     "start_time": "2025-02-01T09:51:22.485484Z"
    }
   },
   "source": [
    "from dotenv import load_dotenv\n",
    "load_dotenv()\n",
    "from langgraph.graph import StateGraph,END\n",
    "from typing import TypedDict, Annotated\n",
    "import operator\n",
    "from langchain_core.messages import AnyMessage, HumanMessage, AIMessage, SystemMessage, ToolMessage\n",
    "from langchain_openai import ChatOpenAI\n",
    "from langchain_community.tools.tavily_search import TavilySearchResults\n",
    "from langgraph.checkpoint.sqlite import SqliteSaver\n",
    "\n",
    "memory = SqliteSaver.from_conn_string(\":memory:\")"
   ],
   "outputs": [],
   "execution_count": 1
  },
  {
   "metadata": {
    "ExecuteTime": {
     "end_time": "2025-02-01T09:51:24.186065Z",
     "start_time": "2025-02-01T09:51:24.178685Z"
    }
   },
   "cell_type": "code",
   "source": [
    "from uuid import uuid4\n",
    "\n",
    "def reduce_messages(left: list[AnyMessage], right: list[AnyMessage]) -> list[AnyMessage]:\n",
    "    for message in right:\n",
    "        if not message.id:\n",
    "            message.id = str(uuid4())\n",
    "    merged = left.copy()\n",
    "    for message in right:\n",
    "        for i, existing in enumerate(merged):\n",
    "            if existing.id == message.id:\n",
    "                merged[i] = message\n",
    "                break\n",
    "        else:\n",
    "            merged.append(message)\n",
    "    return merged\n",
    "\n",
    "class AgentState(TypedDict):\n",
    "    messages: Annotated[list[AnyMessage], reduce_messages]"
   ],
   "id": "e0fdbac9da602168",
   "outputs": [],
   "execution_count": 2
  },
  {
   "metadata": {
    "ExecuteTime": {
     "end_time": "2025-02-01T09:51:24.395590Z",
     "start_time": "2025-02-01T09:51:24.386447Z"
    }
   },
   "cell_type": "code",
   "source": [
    "tool = TavilySearchResults(max_results=2)\n",
    "\n",
    "\n",
    "class Agent:\n",
    "    def __init__(self, model, tools, system=\"\", checkpointer=None):\n",
    "        self.system = system\n",
    "        graph = StateGraph(AgentState)\n",
    "        graph.add_node(\"llm\", self.call_openai)\n",
    "        graph.add_node(\"action\", self.take_action)\n",
    "        graph.add_conditional_edges(\"llm\", self.exists_action, {True: \"action\", False: END})\n",
    "        graph.add_edge(\"action\", \"llm\")\n",
    "        graph.set_entry_point(\"llm\")\n",
    "        self.graph = graph.compile(\n",
    "            checkpointer=checkpointer,\n",
    "            interrupt_before=[\"action\"]\n",
    "        )\n",
    "        self.tools = {t.name: t for t in tools}\n",
    "        self.model = model.bind_tools(tools)\n",
    "\n",
    "    def call_openai(self, state: AgentState):\n",
    "        messages = state['messages']\n",
    "        if self.system:\n",
    "            messages = [SystemMessage(content=self.system)] + messages\n",
    "        message = self.model.invoke(messages)\n",
    "        return {'messages': [message]}\n",
    "\n",
    "    def exists_action(self, state: AgentState):\n",
    "        print(state)\n",
    "        result = state['messages'][-1]\n",
    "        return len(result.tool_calls) > 0\n",
    "\n",
    "    def take_action(self, state: AgentState):\n",
    "        tool_calls = state['messages'][-1].tool_calls\n",
    "        results = []\n",
    "        for t in tool_calls:\n",
    "            print(f\"Calling: {t}\")\n",
    "            result = self.tools[t['name']].invoke(t['args'])\n",
    "            results.append(ToolMessage(tool_call_id=t['id'], name=t['name'], content=str(result)))\n",
    "        print(\"Back to the model!\")\n",
    "        return {'messages': results}"
   ],
   "id": "98ef94dc3c1f8f77",
   "outputs": [],
   "execution_count": 3
  },
  {
   "metadata": {
    "ExecuteTime": {
     "end_time": "2025-02-01T09:51:25.132492Z",
     "start_time": "2025-02-01T09:51:24.405978Z"
    }
   },
   "cell_type": "code",
   "source": [
    "prompt = \"\"\"You are a smart research assistant. Use the search engine to look up information. \\\n",
    "You are allowed to make multiple calls (either together or in sequence). \\\n",
    "Only look up information when you are sure of what you want. \\\n",
    "If you need to look up some information before asking a follow up question, you are allowed to do that!\n",
    "\"\"\"\n",
    "model = ChatOpenAI(model=\"gpt-3.5-turbo\")\n",
    "abot = Agent(model, [tool], system=prompt, checkpointer=memory)"
   ],
   "id": "59302a16fcc664ec",
   "outputs": [],
   "execution_count": 4
  },
  {
   "metadata": {
    "ExecuteTime": {
     "end_time": "2025-02-01T09:51:26.184746Z",
     "start_time": "2025-02-01T09:51:25.143696Z"
    }
   },
   "cell_type": "code",
   "source": [
    "messages = [HumanMessage(content=\"Whats the weather in SF?\")]\n",
    "thread = {\"configurable\": {\"thread_id\": \"1\"}}\n",
    "for event in abot.graph.stream({\"messages\": messages}, thread):\n",
    "    for v in event.values():\n",
    "        print(v)"
   ],
   "id": "ff3fc18579ecc06b",
   "outputs": [
    {
     "name": "stdout",
     "output_type": "stream",
     "text": [
      "{'messages': [HumanMessage(content='Whats the weather in SF?', id='a26ae330-800d-4321-bfae-b60e87958273'), AIMessage(content='', additional_kwargs={'tool_calls': [{'id': 'call_p3byAUnHQMBxSROi0ODuLBPP', 'function': {'arguments': '{\"query\":\"weather in San Francisco\"}', 'name': 'tavily_search_results_json'}, 'type': 'function'}]}, response_metadata={'token_usage': {'completion_tokens': 22, 'prompt_tokens': 152, 'total_tokens': 174, 'completion_tokens_details': {'accepted_prediction_tokens': 0, 'audio_tokens': 0, 'reasoning_tokens': 0, 'rejected_prediction_tokens': 0}, 'prompt_tokens_details': {'audio_tokens': 0, 'cached_tokens': 0}}, 'model_name': 'gpt-3.5-turbo-0125', 'system_fingerprint': None, 'finish_reason': 'tool_calls', 'logprobs': None}, id='run-1da2dabd-0f31-4111-8009-d92805a39c02-0', tool_calls=[{'name': 'tavily_search_results_json', 'args': {'query': 'weather in San Francisco'}, 'id': 'call_p3byAUnHQMBxSROi0ODuLBPP', 'type': 'tool_call'}], usage_metadata={'input_tokens': 152, 'output_tokens': 22, 'total_tokens': 174})]}\n",
      "{'messages': [AIMessage(content='', additional_kwargs={'tool_calls': [{'id': 'call_p3byAUnHQMBxSROi0ODuLBPP', 'function': {'arguments': '{\"query\":\"weather in San Francisco\"}', 'name': 'tavily_search_results_json'}, 'type': 'function'}]}, response_metadata={'token_usage': {'completion_tokens': 22, 'prompt_tokens': 152, 'total_tokens': 174, 'completion_tokens_details': {'accepted_prediction_tokens': 0, 'audio_tokens': 0, 'reasoning_tokens': 0, 'rejected_prediction_tokens': 0}, 'prompt_tokens_details': {'audio_tokens': 0, 'cached_tokens': 0}}, 'model_name': 'gpt-3.5-turbo-0125', 'system_fingerprint': None, 'finish_reason': 'tool_calls', 'logprobs': None}, id='run-1da2dabd-0f31-4111-8009-d92805a39c02-0', tool_calls=[{'name': 'tavily_search_results_json', 'args': {'query': 'weather in San Francisco'}, 'id': 'call_p3byAUnHQMBxSROi0ODuLBPP', 'type': 'tool_call'}], usage_metadata={'input_tokens': 152, 'output_tokens': 22, 'total_tokens': 174})]}\n"
     ]
    }
   ],
   "execution_count": 5
  },
  {
   "metadata": {
    "ExecuteTime": {
     "end_time": "2025-02-01T09:51:26.222169Z",
     "start_time": "2025-02-01T09:51:26.204911Z"
    }
   },
   "cell_type": "code",
   "source": "abot.graph.get_state(thread)",
   "id": "21bfebc4058dab08",
   "outputs": [
    {
     "data": {
      "text/plain": [
       "StateSnapshot(values={'messages': [HumanMessage(content='Whats the weather in SF?', id='a26ae330-800d-4321-bfae-b60e87958273'), AIMessage(content='', additional_kwargs={'tool_calls': [{'id': 'call_p3byAUnHQMBxSROi0ODuLBPP', 'function': {'arguments': '{\"query\":\"weather in San Francisco\"}', 'name': 'tavily_search_results_json'}, 'type': 'function'}]}, response_metadata={'token_usage': {'completion_tokens': 22, 'prompt_tokens': 152, 'total_tokens': 174, 'completion_tokens_details': {'accepted_prediction_tokens': 0, 'audio_tokens': 0, 'reasoning_tokens': 0, 'rejected_prediction_tokens': 0}, 'prompt_tokens_details': {'audio_tokens': 0, 'cached_tokens': 0}}, 'model_name': 'gpt-3.5-turbo-0125', 'system_fingerprint': None, 'finish_reason': 'tool_calls', 'logprobs': None}, id='run-1da2dabd-0f31-4111-8009-d92805a39c02-0', tool_calls=[{'name': 'tavily_search_results_json', 'args': {'query': 'weather in San Francisco'}, 'id': 'call_p3byAUnHQMBxSROi0ODuLBPP', 'type': 'tool_call'}], usage_metadata={'input_tokens': 152, 'output_tokens': 22, 'total_tokens': 174})]}, next=('action',), config={'configurable': {'thread_id': '1', 'thread_ts': '1efe0821-a341-660e-8001-95212deb3d13'}}, metadata={'source': 'loop', 'step': 1, 'writes': {'llm': {'messages': [AIMessage(content='', additional_kwargs={'tool_calls': [{'id': 'call_p3byAUnHQMBxSROi0ODuLBPP', 'function': {'arguments': '{\"query\":\"weather in San Francisco\"}', 'name': 'tavily_search_results_json'}, 'type': 'function'}]}, response_metadata={'token_usage': {'completion_tokens': 22, 'prompt_tokens': 152, 'total_tokens': 174, 'completion_tokens_details': {'accepted_prediction_tokens': 0, 'audio_tokens': 0, 'reasoning_tokens': 0, 'rejected_prediction_tokens': 0}, 'prompt_tokens_details': {'audio_tokens': 0, 'cached_tokens': 0}}, 'model_name': 'gpt-3.5-turbo-0125', 'system_fingerprint': None, 'finish_reason': 'tool_calls', 'logprobs': None}, id='run-1da2dabd-0f31-4111-8009-d92805a39c02-0', tool_calls=[{'name': 'tavily_search_results_json', 'args': {'query': 'weather in San Francisco'}, 'id': 'call_p3byAUnHQMBxSROi0ODuLBPP', 'type': 'tool_call'}], usage_metadata={'input_tokens': 152, 'output_tokens': 22, 'total_tokens': 174})]}}}, created_at='2025-02-01T09:51:26.176615+00:00', parent_config={'configurable': {'thread_id': '1', 'thread_ts': '1efe0821-9ac2-6ae9-8000-746e9237c8fa'}})"
      ]
     },
     "execution_count": 6,
     "metadata": {},
     "output_type": "execute_result"
    }
   ],
   "execution_count": 6
  },
  {
   "metadata": {
    "ExecuteTime": {
     "end_time": "2025-02-01T09:51:30.132318Z",
     "start_time": "2025-02-01T09:51:26.246217Z"
    }
   },
   "cell_type": "code",
   "source": [
    "for event in abot.graph.stream(None, thread):\n",
    "    for v in event.values():\n",
    "        print(v)"
   ],
   "id": "8b7c32ed3a00b81c",
   "outputs": [
    {
     "name": "stdout",
     "output_type": "stream",
     "text": [
      "Calling: {'name': 'tavily_search_results_json', 'args': {'query': 'weather in San Francisco'}, 'id': 'call_p3byAUnHQMBxSROi0ODuLBPP', 'type': 'tool_call'}\n",
      "Back to the model!\n",
      "{'messages': [ToolMessage(content='[{\\'url\\': \\'https://www.weatherapi.com/\\', \\'content\\': \"{\\'location\\': {\\'name\\': \\'San Francisco\\', \\'region\\': \\'California\\', \\'country\\': \\'United States of America\\', \\'lat\\': 37.775, \\'lon\\': -122.4183, \\'tz_id\\': \\'America/Los_Angeles\\', \\'localtime_epoch\\': 1738403406, \\'localtime\\': \\'2025-02-01 01:50\\'}, \\'current\\': {\\'last_updated_epoch\\': 1738403100, \\'last_updated\\': \\'2025-02-01 01:45\\', \\'temp_c\\': 12.2, \\'temp_f\\': 54.0, \\'is_day\\': 0, \\'condition\\': {\\'text\\': \\'Light rain\\', \\'icon\\': \\'//cdn.weatherapi.com/weather/64x64/night/296.png\\', \\'code\\': 1183}, \\'wind_mph\\': 6.3, \\'wind_kph\\': 10.1, \\'wind_degree\\': 143, \\'wind_dir\\': \\'SE\\', \\'pressure_mb\\': 1023.0, \\'pressure_in\\': 30.2, \\'precip_mm\\': 0.0, \\'precip_in\\': 0.0, \\'humidity\\': 90, \\'cloud\\': 100, \\'feelslike_c\\': 11.3, \\'feelslike_f\\': 52.3, \\'windchill_c\\': 9.4, \\'windchill_f\\': 48.9, \\'heatindex_c\\': 11.0, \\'heatindex_f\\': 51.8, \\'dewpoint_c\\': 10.6, \\'dewpoint_f\\': 51.1, \\'vis_km\\': 16.0, \\'vis_miles\\': 9.0, \\'uv\\': 0.0, \\'gust_mph\\': 9.9, \\'gust_kph\\': 16.0}}\"}, {\\'url\\': \\'https://world-weather.info/forecast/usa/san_francisco/january-2025/\\', \\'content\\': \"Weather in San Francisco in January 2025 (California) - Detailed Weather Forecast for a Month Weather World Weather in San Francisco Weather in San Francisco in January 2025 San Francisco Weather Forecast for January 2025, is based on previous years\\' statistical data. +55°+46° +54°+45° +57°+48° +55°+48° +55°+48° +55°+46° +57°+50° +59°+50° +57°+50° +59°+50° +55°+48° +57°+48° +57°+48° +57°+50° +55°+46° +55°+48° +57°+48° +57°+48° +57°+48° +55°+48° +57°+48° +55°+48° +55°+48° +55°+46° +57°+48° +57°+48° +59°+48° +59°+48° +59°+48° +59°+48° +61°+50° Extended weather forecast in San Francisco HourlyWeek10-Day14-Day30-DayYear Weather in Washington, D.C.+30° Sacramento+45° Pleasanton+50° Redwood City+54° San Leandro+54° San Mateo+54° San Rafael+50° San Ramon+48° South San Francisco+55° Vallejo+50° Palo Alto+52° Pacifica+59° Berkeley+48° Castro Valley+54° Concord+48° Daly City+55° Leona Heights+54° Centennial+54° world\\'s temperature today day day Temperature units\"}]', name='tavily_search_results_json', tool_call_id='call_p3byAUnHQMBxSROi0ODuLBPP')]}\n",
      "{'messages': [HumanMessage(content='Whats the weather in SF?', id='a26ae330-800d-4321-bfae-b60e87958273'), AIMessage(content='', additional_kwargs={'tool_calls': [{'id': 'call_p3byAUnHQMBxSROi0ODuLBPP', 'function': {'arguments': '{\"query\":\"weather in San Francisco\"}', 'name': 'tavily_search_results_json'}, 'type': 'function'}]}, response_metadata={'token_usage': {'completion_tokens': 22, 'prompt_tokens': 152, 'total_tokens': 174, 'completion_tokens_details': {'accepted_prediction_tokens': 0, 'audio_tokens': 0, 'reasoning_tokens': 0, 'rejected_prediction_tokens': 0}, 'prompt_tokens_details': {'audio_tokens': 0, 'cached_tokens': 0}}, 'model_name': 'gpt-3.5-turbo-0125', 'system_fingerprint': None, 'finish_reason': 'tool_calls', 'logprobs': None}, id='run-1da2dabd-0f31-4111-8009-d92805a39c02-0', tool_calls=[{'name': 'tavily_search_results_json', 'args': {'query': 'weather in San Francisco'}, 'id': 'call_p3byAUnHQMBxSROi0ODuLBPP', 'type': 'tool_call'}], usage_metadata={'input_tokens': 152, 'output_tokens': 22, 'total_tokens': 174}), ToolMessage(content='[{\\'url\\': \\'https://www.weatherapi.com/\\', \\'content\\': \"{\\'location\\': {\\'name\\': \\'San Francisco\\', \\'region\\': \\'California\\', \\'country\\': \\'United States of America\\', \\'lat\\': 37.775, \\'lon\\': -122.4183, \\'tz_id\\': \\'America/Los_Angeles\\', \\'localtime_epoch\\': 1738403406, \\'localtime\\': \\'2025-02-01 01:50\\'}, \\'current\\': {\\'last_updated_epoch\\': 1738403100, \\'last_updated\\': \\'2025-02-01 01:45\\', \\'temp_c\\': 12.2, \\'temp_f\\': 54.0, \\'is_day\\': 0, \\'condition\\': {\\'text\\': \\'Light rain\\', \\'icon\\': \\'//cdn.weatherapi.com/weather/64x64/night/296.png\\', \\'code\\': 1183}, \\'wind_mph\\': 6.3, \\'wind_kph\\': 10.1, \\'wind_degree\\': 143, \\'wind_dir\\': \\'SE\\', \\'pressure_mb\\': 1023.0, \\'pressure_in\\': 30.2, \\'precip_mm\\': 0.0, \\'precip_in\\': 0.0, \\'humidity\\': 90, \\'cloud\\': 100, \\'feelslike_c\\': 11.3, \\'feelslike_f\\': 52.3, \\'windchill_c\\': 9.4, \\'windchill_f\\': 48.9, \\'heatindex_c\\': 11.0, \\'heatindex_f\\': 51.8, \\'dewpoint_c\\': 10.6, \\'dewpoint_f\\': 51.1, \\'vis_km\\': 16.0, \\'vis_miles\\': 9.0, \\'uv\\': 0.0, \\'gust_mph\\': 9.9, \\'gust_kph\\': 16.0}}\"}, {\\'url\\': \\'https://world-weather.info/forecast/usa/san_francisco/january-2025/\\', \\'content\\': \"Weather in San Francisco in January 2025 (California) - Detailed Weather Forecast for a Month Weather World Weather in San Francisco Weather in San Francisco in January 2025 San Francisco Weather Forecast for January 2025, is based on previous years\\' statistical data. +55°+46° +54°+45° +57°+48° +55°+48° +55°+48° +55°+46° +57°+50° +59°+50° +57°+50° +59°+50° +55°+48° +57°+48° +57°+48° +57°+50° +55°+46° +55°+48° +57°+48° +57°+48° +57°+48° +55°+48° +57°+48° +55°+48° +55°+48° +55°+46° +57°+48° +57°+48° +59°+48° +59°+48° +59°+48° +59°+48° +61°+50° Extended weather forecast in San Francisco HourlyWeek10-Day14-Day30-DayYear Weather in Washington, D.C.+30° Sacramento+45° Pleasanton+50° Redwood City+54° San Leandro+54° San Mateo+54° San Rafael+50° San Ramon+48° South San Francisco+55° Vallejo+50° Palo Alto+52° Pacifica+59° Berkeley+48° Castro Valley+54° Concord+48° Daly City+55° Leona Heights+54° Centennial+54° world\\'s temperature today day day Temperature units\"}]', name='tavily_search_results_json', id='f59476aa-60a8-48e4-9e7c-3c4e080b2311', tool_call_id='call_p3byAUnHQMBxSROi0ODuLBPP'), AIMessage(content='The current weather in San Francisco is 54.0°F with light rain. The wind speed is 6.3 mph coming from the southeast direction. The humidity is at 90%, and the visibility is 9.0 miles.', response_metadata={'token_usage': {'completion_tokens': 50, 'prompt_tokens': 986, 'total_tokens': 1036, 'completion_tokens_details': {'accepted_prediction_tokens': 0, 'audio_tokens': 0, 'reasoning_tokens': 0, 'rejected_prediction_tokens': 0}, 'prompt_tokens_details': {'audio_tokens': 0, 'cached_tokens': 0}}, 'model_name': 'gpt-3.5-turbo-0125', 'system_fingerprint': None, 'finish_reason': 'stop', 'logprobs': None}, id='run-ffbdf7cf-574a-4a5e-becd-11b7685b2c99-0', usage_metadata={'input_tokens': 986, 'output_tokens': 50, 'total_tokens': 1036})]}\n",
      "{'messages': [AIMessage(content='The current weather in San Francisco is 54.0°F with light rain. The wind speed is 6.3 mph coming from the southeast direction. The humidity is at 90%, and the visibility is 9.0 miles.', response_metadata={'token_usage': {'completion_tokens': 50, 'prompt_tokens': 986, 'total_tokens': 1036, 'completion_tokens_details': {'accepted_prediction_tokens': 0, 'audio_tokens': 0, 'reasoning_tokens': 0, 'rejected_prediction_tokens': 0}, 'prompt_tokens_details': {'audio_tokens': 0, 'cached_tokens': 0}}, 'model_name': 'gpt-3.5-turbo-0125', 'system_fingerprint': None, 'finish_reason': 'stop', 'logprobs': None}, id='run-ffbdf7cf-574a-4a5e-becd-11b7685b2c99-0', usage_metadata={'input_tokens': 986, 'output_tokens': 50, 'total_tokens': 1036})]}\n"
     ]
    }
   ],
   "execution_count": 7
  },
  {
   "metadata": {
    "ExecuteTime": {
     "end_time": "2025-02-01T09:51:30.166544Z",
     "start_time": "2025-02-01T09:51:30.157774Z"
    }
   },
   "cell_type": "code",
   "source": "abot.graph.get_state(thread)",
   "id": "50d4ac83a92ad72e",
   "outputs": [
    {
     "data": {
      "text/plain": [
       "StateSnapshot(values={'messages': [HumanMessage(content='Whats the weather in SF?', id='a26ae330-800d-4321-bfae-b60e87958273'), AIMessage(content='', additional_kwargs={'tool_calls': [{'id': 'call_p3byAUnHQMBxSROi0ODuLBPP', 'function': {'arguments': '{\"query\":\"weather in San Francisco\"}', 'name': 'tavily_search_results_json'}, 'type': 'function'}]}, response_metadata={'token_usage': {'completion_tokens': 22, 'prompt_tokens': 152, 'total_tokens': 174, 'completion_tokens_details': {'accepted_prediction_tokens': 0, 'audio_tokens': 0, 'reasoning_tokens': 0, 'rejected_prediction_tokens': 0}, 'prompt_tokens_details': {'audio_tokens': 0, 'cached_tokens': 0}}, 'model_name': 'gpt-3.5-turbo-0125', 'system_fingerprint': None, 'finish_reason': 'tool_calls', 'logprobs': None}, id='run-1da2dabd-0f31-4111-8009-d92805a39c02-0', tool_calls=[{'name': 'tavily_search_results_json', 'args': {'query': 'weather in San Francisco'}, 'id': 'call_p3byAUnHQMBxSROi0ODuLBPP', 'type': 'tool_call'}], usage_metadata={'input_tokens': 152, 'output_tokens': 22, 'total_tokens': 174}), ToolMessage(content='[{\\'url\\': \\'https://www.weatherapi.com/\\', \\'content\\': \"{\\'location\\': {\\'name\\': \\'San Francisco\\', \\'region\\': \\'California\\', \\'country\\': \\'United States of America\\', \\'lat\\': 37.775, \\'lon\\': -122.4183, \\'tz_id\\': \\'America/Los_Angeles\\', \\'localtime_epoch\\': 1738403406, \\'localtime\\': \\'2025-02-01 01:50\\'}, \\'current\\': {\\'last_updated_epoch\\': 1738403100, \\'last_updated\\': \\'2025-02-01 01:45\\', \\'temp_c\\': 12.2, \\'temp_f\\': 54.0, \\'is_day\\': 0, \\'condition\\': {\\'text\\': \\'Light rain\\', \\'icon\\': \\'//cdn.weatherapi.com/weather/64x64/night/296.png\\', \\'code\\': 1183}, \\'wind_mph\\': 6.3, \\'wind_kph\\': 10.1, \\'wind_degree\\': 143, \\'wind_dir\\': \\'SE\\', \\'pressure_mb\\': 1023.0, \\'pressure_in\\': 30.2, \\'precip_mm\\': 0.0, \\'precip_in\\': 0.0, \\'humidity\\': 90, \\'cloud\\': 100, \\'feelslike_c\\': 11.3, \\'feelslike_f\\': 52.3, \\'windchill_c\\': 9.4, \\'windchill_f\\': 48.9, \\'heatindex_c\\': 11.0, \\'heatindex_f\\': 51.8, \\'dewpoint_c\\': 10.6, \\'dewpoint_f\\': 51.1, \\'vis_km\\': 16.0, \\'vis_miles\\': 9.0, \\'uv\\': 0.0, \\'gust_mph\\': 9.9, \\'gust_kph\\': 16.0}}\"}, {\\'url\\': \\'https://world-weather.info/forecast/usa/san_francisco/january-2025/\\', \\'content\\': \"Weather in San Francisco in January 2025 (California) - Detailed Weather Forecast for a Month Weather World Weather in San Francisco Weather in San Francisco in January 2025 San Francisco Weather Forecast for January 2025, is based on previous years\\' statistical data. +55°+46° +54°+45° +57°+48° +55°+48° +55°+48° +55°+46° +57°+50° +59°+50° +57°+50° +59°+50° +55°+48° +57°+48° +57°+48° +57°+50° +55°+46° +55°+48° +57°+48° +57°+48° +57°+48° +55°+48° +57°+48° +55°+48° +55°+48° +55°+46° +57°+48° +57°+48° +59°+48° +59°+48° +59°+48° +59°+48° +61°+50° Extended weather forecast in San Francisco HourlyWeek10-Day14-Day30-DayYear Weather in Washington, D.C.+30° Sacramento+45° Pleasanton+50° Redwood City+54° San Leandro+54° San Mateo+54° San Rafael+50° San Ramon+48° South San Francisco+55° Vallejo+50° Palo Alto+52° Pacifica+59° Berkeley+48° Castro Valley+54° Concord+48° Daly City+55° Leona Heights+54° Centennial+54° world\\'s temperature today day day Temperature units\"}]', name='tavily_search_results_json', id='f59476aa-60a8-48e4-9e7c-3c4e080b2311', tool_call_id='call_p3byAUnHQMBxSROi0ODuLBPP'), AIMessage(content='The current weather in San Francisco is 54.0°F with light rain. The wind speed is 6.3 mph coming from the southeast direction. The humidity is at 90%, and the visibility is 9.0 miles.', response_metadata={'token_usage': {'completion_tokens': 50, 'prompt_tokens': 986, 'total_tokens': 1036, 'completion_tokens_details': {'accepted_prediction_tokens': 0, 'audio_tokens': 0, 'reasoning_tokens': 0, 'rejected_prediction_tokens': 0}, 'prompt_tokens_details': {'audio_tokens': 0, 'cached_tokens': 0}}, 'model_name': 'gpt-3.5-turbo-0125', 'system_fingerprint': None, 'finish_reason': 'stop', 'logprobs': None}, id='run-ffbdf7cf-574a-4a5e-becd-11b7685b2c99-0', usage_metadata={'input_tokens': 986, 'output_tokens': 50, 'total_tokens': 1036})]}, next=(), config={'configurable': {'thread_id': '1', 'thread_ts': '1efe0821-c8eb-6d2d-8003-66de67149260'}}, metadata={'source': 'loop', 'step': 3, 'writes': {'llm': {'messages': [AIMessage(content='The current weather in San Francisco is 54.0°F with light rain. The wind speed is 6.3 mph coming from the southeast direction. The humidity is at 90%, and the visibility is 9.0 miles.', response_metadata={'token_usage': {'completion_tokens': 50, 'prompt_tokens': 986, 'total_tokens': 1036, 'completion_tokens_details': {'accepted_prediction_tokens': 0, 'audio_tokens': 0, 'reasoning_tokens': 0, 'rejected_prediction_tokens': 0}, 'prompt_tokens_details': {'audio_tokens': 0, 'cached_tokens': 0}}, 'model_name': 'gpt-3.5-turbo-0125', 'system_fingerprint': None, 'finish_reason': 'stop', 'logprobs': None}, id='run-ffbdf7cf-574a-4a5e-becd-11b7685b2c99-0', usage_metadata={'input_tokens': 986, 'output_tokens': 50, 'total_tokens': 1036})]}}}, created_at='2025-02-01T09:51:30.126161+00:00', parent_config={'configurable': {'thread_id': '1', 'thread_ts': '1efe0821-c1a9-64de-8002-1b79de061341'}})"
      ]
     },
     "execution_count": 8,
     "metadata": {},
     "output_type": "execute_result"
    }
   ],
   "execution_count": 8
  },
  {
   "metadata": {
    "ExecuteTime": {
     "end_time": "2025-02-01T09:51:30.307855Z",
     "start_time": "2025-02-01T09:51:30.296053Z"
    }
   },
   "cell_type": "code",
   "source": "abot.graph.get_state(thread).next",
   "id": "705797a6d1e7c274",
   "outputs": [
    {
     "data": {
      "text/plain": [
       "()"
      ]
     },
     "execution_count": 9,
     "metadata": {},
     "output_type": "execute_result"
    }
   ],
   "execution_count": 9
  },
  {
   "metadata": {
    "ExecuteTime": {
     "end_time": "2025-02-01T09:51:45.513232Z",
     "start_time": "2025-02-01T09:51:30.475811Z"
    }
   },
   "cell_type": "code",
   "source": [
    "messages = [HumanMessage(\"Whats the weather in LA?\")]\n",
    "thread = {\"configurable\": {\"thread_id\": \"2\"}}\n",
    "for event in abot.graph.stream({\"messages\": messages}, thread):\n",
    "    for v in event.values():\n",
    "        print(v)\n",
    "while abot.graph.get_state(thread).next:\n",
    "    print(\"\\n\", abot.graph.get_state(thread),\"\\n\")\n",
    "    _input = input(\"proceed?\")\n",
    "    if _input != \"y\":\n",
    "        print(\"aborting\")\n",
    "        break\n",
    "    for event in abot.graph.stream(None, thread):\n",
    "        for v in event.values():\n",
    "            print(v)"
   ],
   "id": "950ca0c1874037e0",
   "outputs": [
    {
     "name": "stdout",
     "output_type": "stream",
     "text": [
      "{'messages': [HumanMessage(content='Whats the weather in LA?', id='826f5a7d-1985-46c5-ac3a-fc1292b02347'), AIMessage(content='', additional_kwargs={'tool_calls': [{'id': 'call_OZuVgW7p135kmBpEzBY1jEeY', 'function': {'arguments': '{\"query\":\"weather in Los Angeles\"}', 'name': 'tavily_search_results_json'}, 'type': 'function'}]}, response_metadata={'token_usage': {'completion_tokens': 22, 'prompt_tokens': 152, 'total_tokens': 174, 'completion_tokens_details': {'accepted_prediction_tokens': 0, 'audio_tokens': 0, 'reasoning_tokens': 0, 'rejected_prediction_tokens': 0}, 'prompt_tokens_details': {'audio_tokens': 0, 'cached_tokens': 0}}, 'model_name': 'gpt-3.5-turbo-0125', 'system_fingerprint': None, 'finish_reason': 'tool_calls', 'logprobs': None}, id='run-01ba5737-5a64-4d7d-8593-92ea8f33233b-0', tool_calls=[{'name': 'tavily_search_results_json', 'args': {'query': 'weather in Los Angeles'}, 'id': 'call_OZuVgW7p135kmBpEzBY1jEeY', 'type': 'tool_call'}], usage_metadata={'input_tokens': 152, 'output_tokens': 22, 'total_tokens': 174})]}\n",
      "{'messages': [AIMessage(content='', additional_kwargs={'tool_calls': [{'id': 'call_OZuVgW7p135kmBpEzBY1jEeY', 'function': {'arguments': '{\"query\":\"weather in Los Angeles\"}', 'name': 'tavily_search_results_json'}, 'type': 'function'}]}, response_metadata={'token_usage': {'completion_tokens': 22, 'prompt_tokens': 152, 'total_tokens': 174, 'completion_tokens_details': {'accepted_prediction_tokens': 0, 'audio_tokens': 0, 'reasoning_tokens': 0, 'rejected_prediction_tokens': 0}, 'prompt_tokens_details': {'audio_tokens': 0, 'cached_tokens': 0}}, 'model_name': 'gpt-3.5-turbo-0125', 'system_fingerprint': None, 'finish_reason': 'tool_calls', 'logprobs': None}, id='run-01ba5737-5a64-4d7d-8593-92ea8f33233b-0', tool_calls=[{'name': 'tavily_search_results_json', 'args': {'query': 'weather in Los Angeles'}, 'id': 'call_OZuVgW7p135kmBpEzBY1jEeY', 'type': 'tool_call'}], usage_metadata={'input_tokens': 152, 'output_tokens': 22, 'total_tokens': 174})]}\n",
      "\n",
      " StateSnapshot(values={'messages': [HumanMessage(content='Whats the weather in LA?', id='826f5a7d-1985-46c5-ac3a-fc1292b02347'), AIMessage(content='', additional_kwargs={'tool_calls': [{'id': 'call_OZuVgW7p135kmBpEzBY1jEeY', 'function': {'arguments': '{\"query\":\"weather in Los Angeles\"}', 'name': 'tavily_search_results_json'}, 'type': 'function'}]}, response_metadata={'token_usage': {'completion_tokens': 22, 'prompt_tokens': 152, 'total_tokens': 174, 'completion_tokens_details': {'accepted_prediction_tokens': 0, 'audio_tokens': 0, 'reasoning_tokens': 0, 'rejected_prediction_tokens': 0}, 'prompt_tokens_details': {'audio_tokens': 0, 'cached_tokens': 0}}, 'model_name': 'gpt-3.5-turbo-0125', 'system_fingerprint': None, 'finish_reason': 'tool_calls', 'logprobs': None}, id='run-01ba5737-5a64-4d7d-8593-92ea8f33233b-0', tool_calls=[{'name': 'tavily_search_results_json', 'args': {'query': 'weather in Los Angeles'}, 'id': 'call_OZuVgW7p135kmBpEzBY1jEeY', 'type': 'tool_call'}], usage_metadata={'input_tokens': 152, 'output_tokens': 22, 'total_tokens': 174})]}, next=('action',), config={'configurable': {'thread_id': '2', 'thread_ts': '1efe0821-d9fd-604f-8001-e9b4642bc5b9'}}, metadata={'source': 'loop', 'step': 1, 'writes': {'llm': {'messages': [AIMessage(content='', additional_kwargs={'tool_calls': [{'id': 'call_OZuVgW7p135kmBpEzBY1jEeY', 'function': {'arguments': '{\"query\":\"weather in Los Angeles\"}', 'name': 'tavily_search_results_json'}, 'type': 'function'}]}, response_metadata={'token_usage': {'completion_tokens': 22, 'prompt_tokens': 152, 'total_tokens': 174, 'completion_tokens_details': {'accepted_prediction_tokens': 0, 'audio_tokens': 0, 'reasoning_tokens': 0, 'rejected_prediction_tokens': 0}, 'prompt_tokens_details': {'audio_tokens': 0, 'cached_tokens': 0}}, 'model_name': 'gpt-3.5-turbo-0125', 'system_fingerprint': None, 'finish_reason': 'tool_calls', 'logprobs': None}, id='run-01ba5737-5a64-4d7d-8593-92ea8f33233b-0', tool_calls=[{'name': 'tavily_search_results_json', 'args': {'query': 'weather in Los Angeles'}, 'id': 'call_OZuVgW7p135kmBpEzBY1jEeY', 'type': 'tool_call'}], usage_metadata={'input_tokens': 152, 'output_tokens': 22, 'total_tokens': 174})]}}}, created_at='2025-02-01T09:51:31.915783+00:00', parent_config={'configurable': {'thread_id': '2', 'thread_ts': '1efe0821-cc6f-64dd-8000-d21d28cbd043'}}) \n",
      "\n",
      "Calling: {'name': 'tavily_search_results_json', 'args': {'query': 'weather in Los Angeles'}, 'id': 'call_OZuVgW7p135kmBpEzBY1jEeY', 'type': 'tool_call'}\n",
      "Back to the model!\n",
      "{'messages': [ToolMessage(content='[{\\'url\\': \\'https://www.weatherapi.com/\\', \\'content\\': \"{\\'location\\': {\\'name\\': \\'Los Angeles\\', \\'region\\': \\'California\\', \\'country\\': \\'United States of America\\', \\'lat\\': 34.0522, \\'lon\\': -118.2428, \\'tz_id\\': \\'America/Los_Angeles\\', \\'localtime_epoch\\': 1738403502, \\'localtime\\': \\'2025-02-01 01:51\\'}, \\'current\\': {\\'last_updated_epoch\\': 1738403100, \\'last_updated\\': \\'2025-02-01 01:45\\', \\'temp_c\\': 10.6, \\'temp_f\\': 51.1, \\'is_day\\': 0, \\'condition\\': {\\'text\\': \\'Clear\\', \\'icon\\': \\'//cdn.weatherapi.com/weather/64x64/night/113.png\\', \\'code\\': 1000}, \\'wind_mph\\': 2.2, \\'wind_kph\\': 3.6, \\'wind_degree\\': 157, \\'wind_dir\\': \\'SSE\\', \\'pressure_mb\\': 1022.0, \\'pressure_in\\': 30.18, \\'precip_mm\\': 0.0, \\'precip_in\\': 0.0, \\'humidity\\': 86, \\'cloud\\': 0, \\'feelslike_c\\': 10.9, \\'feelslike_f\\': 51.6, \\'windchill_c\\': 11.4, \\'windchill_f\\': 52.6, \\'heatindex_c\\': 11.4, \\'heatindex_f\\': 52.6, \\'dewpoint_c\\': 9.5, \\'dewpoint_f\\': 49.1, \\'vis_km\\': 13.0, \\'vis_miles\\': 8.0, \\'uv\\': 0.0, \\'gust_mph\\': 2.7, \\'gust_kph\\': 4.3}}\"}, {\\'url\\': \\'https://weathershogun.com/weather/usa/ca/los-angeles/451/january/2025-01-02\\', \\'content\\': \"Thursday, January 2, 2025. Los Angeles, CA - Weather Forecast Los Angeles, CA Home Contact Browse States Privacy Policy Terms and Conditions °F) °C) Today Tomorrow Hourly 7 days 30 days January Los Angeles, California Weather: Air Quality Alert (Issued when air pollution levels are unhealthy, especially for sensitive groups.) Thursday, January 2, 2025 Day 77° Night 52° Precipitation 0 % Wind 4 mph UV Index (0 - 11+) 3 Friday Hourly Today Tomorrow 7 days 30 days Weather Forecast History Last Year\\'s Weather on This Day (January 2, 2024) Day 70° Night 52° Wind 4 mph UV Index Precipitation Please note that while we strive for accuracy, the information provided may not always be correct. Use at your own risk.\"}]', name='tavily_search_results_json', tool_call_id='call_OZuVgW7p135kmBpEzBY1jEeY')]}\n",
      "{'messages': [HumanMessage(content='Whats the weather in LA?', id='826f5a7d-1985-46c5-ac3a-fc1292b02347'), AIMessage(content='', additional_kwargs={'tool_calls': [{'id': 'call_OZuVgW7p135kmBpEzBY1jEeY', 'function': {'arguments': '{\"query\":\"weather in Los Angeles\"}', 'name': 'tavily_search_results_json'}, 'type': 'function'}]}, response_metadata={'token_usage': {'completion_tokens': 22, 'prompt_tokens': 152, 'total_tokens': 174, 'completion_tokens_details': {'accepted_prediction_tokens': 0, 'audio_tokens': 0, 'reasoning_tokens': 0, 'rejected_prediction_tokens': 0}, 'prompt_tokens_details': {'audio_tokens': 0, 'cached_tokens': 0}}, 'model_name': 'gpt-3.5-turbo-0125', 'system_fingerprint': None, 'finish_reason': 'tool_calls', 'logprobs': None}, id='run-01ba5737-5a64-4d7d-8593-92ea8f33233b-0', tool_calls=[{'name': 'tavily_search_results_json', 'args': {'query': 'weather in Los Angeles'}, 'id': 'call_OZuVgW7p135kmBpEzBY1jEeY', 'type': 'tool_call'}], usage_metadata={'input_tokens': 152, 'output_tokens': 22, 'total_tokens': 174}), ToolMessage(content='[{\\'url\\': \\'https://www.weatherapi.com/\\', \\'content\\': \"{\\'location\\': {\\'name\\': \\'Los Angeles\\', \\'region\\': \\'California\\', \\'country\\': \\'United States of America\\', \\'lat\\': 34.0522, \\'lon\\': -118.2428, \\'tz_id\\': \\'America/Los_Angeles\\', \\'localtime_epoch\\': 1738403502, \\'localtime\\': \\'2025-02-01 01:51\\'}, \\'current\\': {\\'last_updated_epoch\\': 1738403100, \\'last_updated\\': \\'2025-02-01 01:45\\', \\'temp_c\\': 10.6, \\'temp_f\\': 51.1, \\'is_day\\': 0, \\'condition\\': {\\'text\\': \\'Clear\\', \\'icon\\': \\'//cdn.weatherapi.com/weather/64x64/night/113.png\\', \\'code\\': 1000}, \\'wind_mph\\': 2.2, \\'wind_kph\\': 3.6, \\'wind_degree\\': 157, \\'wind_dir\\': \\'SSE\\', \\'pressure_mb\\': 1022.0, \\'pressure_in\\': 30.18, \\'precip_mm\\': 0.0, \\'precip_in\\': 0.0, \\'humidity\\': 86, \\'cloud\\': 0, \\'feelslike_c\\': 10.9, \\'feelslike_f\\': 51.6, \\'windchill_c\\': 11.4, \\'windchill_f\\': 52.6, \\'heatindex_c\\': 11.4, \\'heatindex_f\\': 52.6, \\'dewpoint_c\\': 9.5, \\'dewpoint_f\\': 49.1, \\'vis_km\\': 13.0, \\'vis_miles\\': 8.0, \\'uv\\': 0.0, \\'gust_mph\\': 2.7, \\'gust_kph\\': 4.3}}\"}, {\\'url\\': \\'https://weathershogun.com/weather/usa/ca/los-angeles/451/january/2025-01-02\\', \\'content\\': \"Thursday, January 2, 2025. Los Angeles, CA - Weather Forecast Los Angeles, CA Home Contact Browse States Privacy Policy Terms and Conditions °F) °C) Today Tomorrow Hourly 7 days 30 days January Los Angeles, California Weather: Air Quality Alert (Issued when air pollution levels are unhealthy, especially for sensitive groups.) Thursday, January 2, 2025 Day 77° Night 52° Precipitation 0 % Wind 4 mph UV Index (0 - 11+) 3 Friday Hourly Today Tomorrow 7 days 30 days Weather Forecast History Last Year\\'s Weather on This Day (January 2, 2024) Day 70° Night 52° Wind 4 mph UV Index Precipitation Please note that while we strive for accuracy, the information provided may not always be correct. Use at your own risk.\"}]', name='tavily_search_results_json', id='757b8337-2477-46cc-a234-cbdb2d8b76a2', tool_call_id='call_OZuVgW7p135kmBpEzBY1jEeY'), AIMessage(content='The current weather in Los Angeles is clear with a temperature of 51.1°F (10.6°C). The wind is blowing at 3.6 km/h from the SSE direction. The humidity is at 86%, and there is no precipitation at the moment.', response_metadata={'token_usage': {'completion_tokens': 57, 'prompt_tokens': 812, 'total_tokens': 869, 'completion_tokens_details': {'accepted_prediction_tokens': 0, 'audio_tokens': 0, 'reasoning_tokens': 0, 'rejected_prediction_tokens': 0}, 'prompt_tokens_details': {'audio_tokens': 0, 'cached_tokens': 0}}, 'model_name': 'gpt-3.5-turbo-0125', 'system_fingerprint': None, 'finish_reason': 'stop', 'logprobs': None}, id='run-7fe85750-13ad-476f-af5b-60887a0a2146-0', usage_metadata={'input_tokens': 812, 'output_tokens': 57, 'total_tokens': 869})]}\n",
      "{'messages': [AIMessage(content='The current weather in Los Angeles is clear with a temperature of 51.1°F (10.6°C). The wind is blowing at 3.6 km/h from the SSE direction. The humidity is at 86%, and there is no precipitation at the moment.', response_metadata={'token_usage': {'completion_tokens': 57, 'prompt_tokens': 812, 'total_tokens': 869, 'completion_tokens_details': {'accepted_prediction_tokens': 0, 'audio_tokens': 0, 'reasoning_tokens': 0, 'rejected_prediction_tokens': 0}, 'prompt_tokens_details': {'audio_tokens': 0, 'cached_tokens': 0}}, 'model_name': 'gpt-3.5-turbo-0125', 'system_fingerprint': None, 'finish_reason': 'stop', 'logprobs': None}, id='run-7fe85750-13ad-476f-af5b-60887a0a2146-0', usage_metadata={'input_tokens': 812, 'output_tokens': 57, 'total_tokens': 869})]}\n"
     ]
    }
   ],
   "execution_count": 10
  },
  {
   "metadata": {},
   "cell_type": "markdown",
   "source": "### **Modifying**",
   "id": "c93cd4d2b77a3fbb"
  },
  {
   "metadata": {
    "ExecuteTime": {
     "end_time": "2025-02-01T09:52:03.020322Z",
     "start_time": "2025-02-01T09:52:01.899053Z"
    }
   },
   "cell_type": "code",
   "source": [
    "messages = [HumanMessage(\"What is the weather in LA\")]\n",
    "thread = {\"configurable\": {\"thread_id\": 3}}\n",
    "for event in abot.graph.stream({\"messages\": messages}, thread):\n",
    "    for v in event.values():\n",
    "        print(v)\n",
    "        print(\"-----\")"
   ],
   "id": "537af9b6a4293d2a",
   "outputs": [
    {
     "name": "stdout",
     "output_type": "stream",
     "text": [
      "{'messages': [HumanMessage(content='What is the weather in LA', id='5b0ab39a-95da-4ee3-976b-484112656742'), AIMessage(content='', additional_kwargs={'tool_calls': [{'id': 'call_VBUEQhlapeGe8aIAkDZMTQOF', 'function': {'arguments': '{\"query\":\"current weather in Los Angeles\"}', 'name': 'tavily_search_results_json'}, 'type': 'function'}]}, response_metadata={'token_usage': {'completion_tokens': 23, 'prompt_tokens': 152, 'total_tokens': 175, 'completion_tokens_details': {'accepted_prediction_tokens': 0, 'audio_tokens': 0, 'reasoning_tokens': 0, 'rejected_prediction_tokens': 0}, 'prompt_tokens_details': {'audio_tokens': 0, 'cached_tokens': 0}}, 'model_name': 'gpt-3.5-turbo-0125', 'system_fingerprint': None, 'finish_reason': 'tool_calls', 'logprobs': None}, id='run-22638856-15e9-482d-9bb4-439bc0ebcc1f-0', tool_calls=[{'name': 'tavily_search_results_json', 'args': {'query': 'current weather in Los Angeles'}, 'id': 'call_VBUEQhlapeGe8aIAkDZMTQOF', 'type': 'tool_call'}], usage_metadata={'input_tokens': 152, 'output_tokens': 23, 'total_tokens': 175})]}\n",
      "{'messages': [AIMessage(content='', additional_kwargs={'tool_calls': [{'id': 'call_VBUEQhlapeGe8aIAkDZMTQOF', 'function': {'arguments': '{\"query\":\"current weather in Los Angeles\"}', 'name': 'tavily_search_results_json'}, 'type': 'function'}]}, response_metadata={'token_usage': {'completion_tokens': 23, 'prompt_tokens': 152, 'total_tokens': 175, 'completion_tokens_details': {'accepted_prediction_tokens': 0, 'audio_tokens': 0, 'reasoning_tokens': 0, 'rejected_prediction_tokens': 0}, 'prompt_tokens_details': {'audio_tokens': 0, 'cached_tokens': 0}}, 'model_name': 'gpt-3.5-turbo-0125', 'system_fingerprint': None, 'finish_reason': 'tool_calls', 'logprobs': None}, id='run-22638856-15e9-482d-9bb4-439bc0ebcc1f-0', tool_calls=[{'name': 'tavily_search_results_json', 'args': {'query': 'current weather in Los Angeles'}, 'id': 'call_VBUEQhlapeGe8aIAkDZMTQOF', 'type': 'tool_call'}], usage_metadata={'input_tokens': 152, 'output_tokens': 23, 'total_tokens': 175})]}\n",
      "-----\n"
     ]
    }
   ],
   "execution_count": 11
  },
  {
   "metadata": {
    "ExecuteTime": {
     "end_time": "2025-02-01T09:52:06.679049Z",
     "start_time": "2025-02-01T09:52:06.673771Z"
    }
   },
   "cell_type": "code",
   "source": "abot.graph.get_state(thread)",
   "id": "13121741e0e70773",
   "outputs": [
    {
     "data": {
      "text/plain": [
       "StateSnapshot(values={'messages': [HumanMessage(content='What is the weather in LA', id='5b0ab39a-95da-4ee3-976b-484112656742'), AIMessage(content='', additional_kwargs={'tool_calls': [{'id': 'call_VBUEQhlapeGe8aIAkDZMTQOF', 'function': {'arguments': '{\"query\":\"current weather in Los Angeles\"}', 'name': 'tavily_search_results_json'}, 'type': 'function'}]}, response_metadata={'token_usage': {'completion_tokens': 23, 'prompt_tokens': 152, 'total_tokens': 175, 'completion_tokens_details': {'accepted_prediction_tokens': 0, 'audio_tokens': 0, 'reasoning_tokens': 0, 'rejected_prediction_tokens': 0}, 'prompt_tokens_details': {'audio_tokens': 0, 'cached_tokens': 0}}, 'model_name': 'gpt-3.5-turbo-0125', 'system_fingerprint': None, 'finish_reason': 'tool_calls', 'logprobs': None}, id='run-22638856-15e9-482d-9bb4-439bc0ebcc1f-0', tool_calls=[{'name': 'tavily_search_results_json', 'args': {'query': 'current weather in Los Angeles'}, 'id': 'call_VBUEQhlapeGe8aIAkDZMTQOF', 'type': 'tool_call'}], usage_metadata={'input_tokens': 152, 'output_tokens': 23, 'total_tokens': 175})]}, next=('action',), config={'configurable': {'thread_id': '3', 'thread_ts': '1efe0823-0297-6b56-8001-8b2ec871ea4f'}}, metadata={'source': 'loop', 'step': 1, 'writes': {'llm': {'messages': [AIMessage(content='', additional_kwargs={'tool_calls': [{'id': 'call_VBUEQhlapeGe8aIAkDZMTQOF', 'function': {'arguments': '{\"query\":\"current weather in Los Angeles\"}', 'name': 'tavily_search_results_json'}, 'type': 'function'}]}, response_metadata={'token_usage': {'completion_tokens': 23, 'prompt_tokens': 152, 'total_tokens': 175, 'completion_tokens_details': {'accepted_prediction_tokens': 0, 'audio_tokens': 0, 'reasoning_tokens': 0, 'rejected_prediction_tokens': 0}, 'prompt_tokens_details': {'audio_tokens': 0, 'cached_tokens': 0}}, 'model_name': 'gpt-3.5-turbo-0125', 'system_fingerprint': None, 'finish_reason': 'tool_calls', 'logprobs': None}, id='run-22638856-15e9-482d-9bb4-439bc0ebcc1f-0', tool_calls=[{'name': 'tavily_search_results_json', 'args': {'query': 'current weather in Los Angeles'}, 'id': 'call_VBUEQhlapeGe8aIAkDZMTQOF', 'type': 'tool_call'}], usage_metadata={'input_tokens': 152, 'output_tokens': 23, 'total_tokens': 175})]}}}, created_at='2025-02-01T09:52:03.016994+00:00', parent_config={'configurable': {'thread_id': '3', 'thread_ts': '1efe0822-f7ff-61dd-8000-d8ed8d9b714f'}})"
      ]
     },
     "execution_count": 12,
     "metadata": {},
     "output_type": "execute_result"
    }
   ],
   "execution_count": 12
  },
  {
   "metadata": {
    "ExecuteTime": {
     "end_time": "2025-02-01T09:52:11.932642Z",
     "start_time": "2025-02-01T09:52:11.924957Z"
    }
   },
   "cell_type": "code",
   "source": "current_values = abot.graph.get_state(thread)",
   "id": "df168a82d4cfdfcf",
   "outputs": [],
   "execution_count": 13
  },
  {
   "metadata": {
    "ExecuteTime": {
     "end_time": "2025-02-01T09:52:17.441253Z",
     "start_time": "2025-02-01T09:52:17.434628Z"
    }
   },
   "cell_type": "code",
   "source": "current_values.values['messages'][-1]",
   "id": "f170012dee5bbfbd",
   "outputs": [
    {
     "data": {
      "text/plain": [
       "AIMessage(content='', additional_kwargs={'tool_calls': [{'id': 'call_VBUEQhlapeGe8aIAkDZMTQOF', 'function': {'arguments': '{\"query\":\"current weather in Los Angeles\"}', 'name': 'tavily_search_results_json'}, 'type': 'function'}]}, response_metadata={'token_usage': {'completion_tokens': 23, 'prompt_tokens': 152, 'total_tokens': 175, 'completion_tokens_details': {'accepted_prediction_tokens': 0, 'audio_tokens': 0, 'reasoning_tokens': 0, 'rejected_prediction_tokens': 0}, 'prompt_tokens_details': {'audio_tokens': 0, 'cached_tokens': 0}}, 'model_name': 'gpt-3.5-turbo-0125', 'system_fingerprint': None, 'finish_reason': 'tool_calls', 'logprobs': None}, id='run-22638856-15e9-482d-9bb4-439bc0ebcc1f-0', tool_calls=[{'name': 'tavily_search_results_json', 'args': {'query': 'current weather in Los Angeles'}, 'id': 'call_VBUEQhlapeGe8aIAkDZMTQOF', 'type': 'tool_call'}], usage_metadata={'input_tokens': 152, 'output_tokens': 23, 'total_tokens': 175})"
      ]
     },
     "execution_count": 14,
     "metadata": {},
     "output_type": "execute_result"
    }
   ],
   "execution_count": 14
  },
  {
   "metadata": {
    "ExecuteTime": {
     "end_time": "2025-02-01T09:52:22.319432Z",
     "start_time": "2025-02-01T09:52:22.313713Z"
    }
   },
   "cell_type": "code",
   "source": "current_values.values[\"messages\"][-1].tool_calls",
   "id": "8459e844a128e14c",
   "outputs": [
    {
     "data": {
      "text/plain": [
       "[{'name': 'tavily_search_results_json',\n",
       "  'args': {'query': 'current weather in Los Angeles'},\n",
       "  'id': 'call_VBUEQhlapeGe8aIAkDZMTQOF',\n",
       "  'type': 'tool_call'}]"
      ]
     },
     "execution_count": 15,
     "metadata": {},
     "output_type": "execute_result"
    }
   ],
   "execution_count": 15
  },
  {
   "metadata": {
    "ExecuteTime": {
     "end_time": "2025-02-01T09:52:28.107866Z",
     "start_time": "2025-02-01T09:52:28.101157Z"
    }
   },
   "cell_type": "code",
   "source": [
    "_id = current_values.values['messages'][-1].tool_calls[0]['id']\n",
    "current_values.values['messages'][-1].tool_calls = [\n",
    "    {'name': 'tavily_search_results_json',\n",
    "  'args': {'query': 'current weather in Louisiana'},\n",
    "  'id': _id}\n",
    "]"
   ],
   "id": "870c14e4c5c7a8f2",
   "outputs": [],
   "execution_count": 16
  },
  {
   "metadata": {
    "ExecuteTime": {
     "end_time": "2025-02-01T09:52:33.826087Z",
     "start_time": "2025-02-01T09:52:33.809613Z"
    }
   },
   "cell_type": "code",
   "source": "abot.graph.update_state(thread, current_values.values)",
   "id": "c12ca20bd1100d00",
   "outputs": [
    {
     "name": "stdout",
     "output_type": "stream",
     "text": [
      "{'messages': [HumanMessage(content='What is the weather in LA', id='5b0ab39a-95da-4ee3-976b-484112656742'), AIMessage(content='', additional_kwargs={'tool_calls': [{'id': 'call_VBUEQhlapeGe8aIAkDZMTQOF', 'function': {'arguments': '{\"query\":\"current weather in Los Angeles\"}', 'name': 'tavily_search_results_json'}, 'type': 'function'}]}, response_metadata={'token_usage': {'completion_tokens': 23, 'prompt_tokens': 152, 'total_tokens': 175, 'completion_tokens_details': {'accepted_prediction_tokens': 0, 'audio_tokens': 0, 'reasoning_tokens': 0, 'rejected_prediction_tokens': 0}, 'prompt_tokens_details': {'audio_tokens': 0, 'cached_tokens': 0}}, 'model_name': 'gpt-3.5-turbo-0125', 'system_fingerprint': None, 'finish_reason': 'tool_calls', 'logprobs': None}, id='run-22638856-15e9-482d-9bb4-439bc0ebcc1f-0', tool_calls=[{'name': 'tavily_search_results_json', 'args': {'query': 'current weather in Louisiana'}, 'id': 'call_VBUEQhlapeGe8aIAkDZMTQOF'}], usage_metadata={'input_tokens': 152, 'output_tokens': 23, 'total_tokens': 175})]}\n"
     ]
    },
    {
     "data": {
      "text/plain": [
       "{'configurable': {'thread_id': '3',\n",
       "  'thread_ts': '1efe0824-284d-65bc-8002-ad0904c3e284'}}"
      ]
     },
     "execution_count": 17,
     "metadata": {},
     "output_type": "execute_result"
    }
   ],
   "execution_count": 17
  },
  {
   "metadata": {
    "ExecuteTime": {
     "end_time": "2025-02-01T09:52:39.186856Z",
     "start_time": "2025-02-01T09:52:39.175923Z"
    }
   },
   "cell_type": "code",
   "source": "abot.graph.get_state(thread)",
   "id": "da88c3b2964e9a2d",
   "outputs": [
    {
     "data": {
      "text/plain": [
       "StateSnapshot(values={'messages': [HumanMessage(content='What is the weather in LA', id='5b0ab39a-95da-4ee3-976b-484112656742'), AIMessage(content='', additional_kwargs={'tool_calls': [{'id': 'call_VBUEQhlapeGe8aIAkDZMTQOF', 'function': {'arguments': '{\"query\":\"current weather in Los Angeles\"}', 'name': 'tavily_search_results_json'}, 'type': 'function'}]}, response_metadata={'token_usage': {'completion_tokens': 23, 'prompt_tokens': 152, 'total_tokens': 175, 'completion_tokens_details': {'accepted_prediction_tokens': 0, 'audio_tokens': 0, 'reasoning_tokens': 0, 'rejected_prediction_tokens': 0}, 'prompt_tokens_details': {'audio_tokens': 0, 'cached_tokens': 0}}, 'model_name': 'gpt-3.5-turbo-0125', 'system_fingerprint': None, 'finish_reason': 'tool_calls', 'logprobs': None}, id='run-22638856-15e9-482d-9bb4-439bc0ebcc1f-0', tool_calls=[{'name': 'tavily_search_results_json', 'args': {'query': 'current weather in Louisiana'}, 'id': 'call_VBUEQhlapeGe8aIAkDZMTQOF', 'type': 'tool_call'}], usage_metadata={'input_tokens': 152, 'output_tokens': 23, 'total_tokens': 175})]}, next=('action',), config={'configurable': {'thread_id': '3', 'thread_ts': '1efe0824-284d-65bc-8002-ad0904c3e284'}}, metadata={'source': 'update', 'step': 2, 'writes': {'llm': {'messages': [HumanMessage(content='What is the weather in LA', id='5b0ab39a-95da-4ee3-976b-484112656742'), AIMessage(content='', additional_kwargs={'tool_calls': [{'id': 'call_VBUEQhlapeGe8aIAkDZMTQOF', 'function': {'arguments': '{\"query\":\"current weather in Los Angeles\"}', 'name': 'tavily_search_results_json'}, 'type': 'function'}]}, response_metadata={'token_usage': {'completion_tokens': 23, 'prompt_tokens': 152, 'total_tokens': 175, 'completion_tokens_details': {'accepted_prediction_tokens': 0, 'audio_tokens': 0, 'reasoning_tokens': 0, 'rejected_prediction_tokens': 0}, 'prompt_tokens_details': {'audio_tokens': 0, 'cached_tokens': 0}}, 'model_name': 'gpt-3.5-turbo-0125', 'system_fingerprint': None, 'finish_reason': 'tool_calls', 'logprobs': None}, id='run-22638856-15e9-482d-9bb4-439bc0ebcc1f-0', tool_calls=[{'name': 'tavily_search_results_json', 'args': {'query': 'current weather in Louisiana'}, 'id': 'call_VBUEQhlapeGe8aIAkDZMTQOF', 'type': 'tool_call'}], usage_metadata={'input_tokens': 152, 'output_tokens': 23, 'total_tokens': 175})]}}}, created_at='2025-02-01T09:52:33.814674+00:00', parent_config={'configurable': {'thread_id': '3', 'thread_ts': '1efe0823-0297-6b56-8001-8b2ec871ea4f'}})"
      ]
     },
     "execution_count": 18,
     "metadata": {},
     "output_type": "execute_result"
    }
   ],
   "execution_count": 18
  },
  {
   "metadata": {
    "ExecuteTime": {
     "end_time": "2025-02-01T09:52:49.916101Z",
     "start_time": "2025-02-01T09:52:45.344847Z"
    }
   },
   "cell_type": "code",
   "source": [
    "for event in abot.graph.stream(None, thread):\n",
    "    for v in event.values():\n",
    "        print(v),\n",
    "        print(\"-----\")"
   ],
   "id": "348042d4e7350541",
   "outputs": [
    {
     "name": "stdout",
     "output_type": "stream",
     "text": [
      "Calling: {'name': 'tavily_search_results_json', 'args': {'query': 'current weather in Louisiana'}, 'id': 'call_VBUEQhlapeGe8aIAkDZMTQOF', 'type': 'tool_call'}\n",
      "Back to the model!\n",
      "{'messages': [ToolMessage(content='[{\\'url\\': \\'https://www.weatherapi.com/\\', \\'content\\': \"{\\'location\\': {\\'name\\': \\'Louisiana\\', \\'region\\': \\'Missouri\\', \\'country\\': \\'USA United States of America\\', \\'lat\\': 39.4411, \\'lon\\': -91.0551, \\'tz_id\\': \\'America/Chicago\\', \\'localtime_epoch\\': 1738403566, \\'localtime\\': \\'2025-02-01 03:52\\'}, \\'current\\': {\\'last_updated_epoch\\': 1738403100, \\'last_updated\\': \\'2025-02-01 03:45\\', \\'temp_c\\': -0.3, \\'temp_f\\': 31.5, \\'is_day\\': 0, \\'condition\\': {\\'text\\': \\'Clear\\', \\'icon\\': \\'//cdn.weatherapi.com/weather/64x64/night/113.png\\', \\'code\\': 1000}, \\'wind_mph\\': 6.7, \\'wind_kph\\': 10.8, \\'wind_degree\\': 54, \\'wind_dir\\': \\'NE\\', \\'pressure_mb\\': 1024.0, \\'pressure_in\\': 30.23, \\'precip_mm\\': 0.0, \\'precip_in\\': 0.0, \\'humidity\\': 95, \\'cloud\\': 0, \\'feelslike_c\\': -3.9, \\'feelslike_f\\': 25.0, \\'windchill_c\\': -4.7, \\'windchill_f\\': 23.6, \\'heatindex_c\\': -1.5, \\'heatindex_f\\': 29.3, \\'dewpoint_c\\': -2.0, \\'dewpoint_f\\': 28.3, \\'vis_km\\': 16.0, \\'vis_miles\\': 9.0, \\'uv\\': 0.0, \\'gust_mph\\': 12.7, \\'gust_kph\\': 20.4}}\"}, {\\'url\\': \\'https://forecast.weather.gov/zipcity.php?inputstring=Baton+Rouge,LA\\', \\'content\\': \\'FORECAST  Last update 19 Nov 4:53 am CST Hourly Weather Forecast Low: 71 °F High: 80 °F Tuesday Night High: 68 °F Wednesday Night High: 66 °F Thursday Night High: 63 °F Friday Night Tuesday Night Wednesday Night Thursday Night Friday Night Saturday Night Sunday Night Additional Forecasts and Information ZONE AREA FORECAST FOR EAST BATON ROUGE PARISH, LA Hourly Weather Forecast Air Quality Forecasts Marine Weather Aviation Weather NWS New Orleans/Baton Rouge Home ABOUT THIS FORECAST Hourly Weather Forecast Winter Weather Forecasts Fire Weather Outlooks Surface Weather FORECAST Local Forecast International Forecasts Fire Weather Current Graphical Forecast Maps Aviation Weather Fire Weather Tsunami Warning System International Weather WEATHER SAFETY NWS Education Home National Weather Service Please Contact Us. Disclaimer\\'}]', name='tavily_search_results_json', tool_call_id='call_VBUEQhlapeGe8aIAkDZMTQOF')]}\n",
      "-----\n",
      "{'messages': [HumanMessage(content='What is the weather in LA', id='5b0ab39a-95da-4ee3-976b-484112656742'), AIMessage(content='', additional_kwargs={'tool_calls': [{'id': 'call_VBUEQhlapeGe8aIAkDZMTQOF', 'function': {'arguments': '{\"query\":\"current weather in Los Angeles\"}', 'name': 'tavily_search_results_json'}, 'type': 'function'}]}, response_metadata={'token_usage': {'completion_tokens': 23, 'prompt_tokens': 152, 'total_tokens': 175, 'completion_tokens_details': {'accepted_prediction_tokens': 0, 'audio_tokens': 0, 'reasoning_tokens': 0, 'rejected_prediction_tokens': 0}, 'prompt_tokens_details': {'audio_tokens': 0, 'cached_tokens': 0}}, 'model_name': 'gpt-3.5-turbo-0125', 'system_fingerprint': None, 'finish_reason': 'tool_calls', 'logprobs': None}, id='run-22638856-15e9-482d-9bb4-439bc0ebcc1f-0', tool_calls=[{'name': 'tavily_search_results_json', 'args': {'query': 'current weather in Louisiana'}, 'id': 'call_VBUEQhlapeGe8aIAkDZMTQOF', 'type': 'tool_call'}], usage_metadata={'input_tokens': 152, 'output_tokens': 23, 'total_tokens': 175}), ToolMessage(content='[{\\'url\\': \\'https://www.weatherapi.com/\\', \\'content\\': \"{\\'location\\': {\\'name\\': \\'Louisiana\\', \\'region\\': \\'Missouri\\', \\'country\\': \\'USA United States of America\\', \\'lat\\': 39.4411, \\'lon\\': -91.0551, \\'tz_id\\': \\'America/Chicago\\', \\'localtime_epoch\\': 1738403566, \\'localtime\\': \\'2025-02-01 03:52\\'}, \\'current\\': {\\'last_updated_epoch\\': 1738403100, \\'last_updated\\': \\'2025-02-01 03:45\\', \\'temp_c\\': -0.3, \\'temp_f\\': 31.5, \\'is_day\\': 0, \\'condition\\': {\\'text\\': \\'Clear\\', \\'icon\\': \\'//cdn.weatherapi.com/weather/64x64/night/113.png\\', \\'code\\': 1000}, \\'wind_mph\\': 6.7, \\'wind_kph\\': 10.8, \\'wind_degree\\': 54, \\'wind_dir\\': \\'NE\\', \\'pressure_mb\\': 1024.0, \\'pressure_in\\': 30.23, \\'precip_mm\\': 0.0, \\'precip_in\\': 0.0, \\'humidity\\': 95, \\'cloud\\': 0, \\'feelslike_c\\': -3.9, \\'feelslike_f\\': 25.0, \\'windchill_c\\': -4.7, \\'windchill_f\\': 23.6, \\'heatindex_c\\': -1.5, \\'heatindex_f\\': 29.3, \\'dewpoint_c\\': -2.0, \\'dewpoint_f\\': 28.3, \\'vis_km\\': 16.0, \\'vis_miles\\': 9.0, \\'uv\\': 0.0, \\'gust_mph\\': 12.7, \\'gust_kph\\': 20.4}}\"}, {\\'url\\': \\'https://forecast.weather.gov/zipcity.php?inputstring=Baton+Rouge,LA\\', \\'content\\': \\'FORECAST  Last update 19 Nov 4:53 am CST Hourly Weather Forecast Low: 71 °F High: 80 °F Tuesday Night High: 68 °F Wednesday Night High: 66 °F Thursday Night High: 63 °F Friday Night Tuesday Night Wednesday Night Thursday Night Friday Night Saturday Night Sunday Night Additional Forecasts and Information ZONE AREA FORECAST FOR EAST BATON ROUGE PARISH, LA Hourly Weather Forecast Air Quality Forecasts Marine Weather Aviation Weather NWS New Orleans/Baton Rouge Home ABOUT THIS FORECAST Hourly Weather Forecast Winter Weather Forecasts Fire Weather Outlooks Surface Weather FORECAST Local Forecast International Forecasts Fire Weather Current Graphical Forecast Maps Aviation Weather Fire Weather Tsunami Warning System International Weather WEATHER SAFETY NWS Education Home National Weather Service Please Contact Us. Disclaimer\\'}]', name='tavily_search_results_json', id='42e6cdfa-06d5-487c-a041-fe20d5584e04', tool_call_id='call_VBUEQhlapeGe8aIAkDZMTQOF'), AIMessage(content='I found information on the current weather in Louisiana, not Los Angeles. The current weather in Louisiana is as follows:\\n- Temperature: 31.5°F (feels like 25.0°F)\\n- Condition: Clear\\n- Wind: 10.8 km/h from the Northeast\\n- Pressure: 30.23 in\\n- Humidity: 95%\\n\\nIf you need the weather in Los Angeles specifically, I can look that up for you. Would you like me to do that?', response_metadata={'token_usage': {'completion_tokens': 103, 'prompt_tokens': 790, 'total_tokens': 893, 'completion_tokens_details': {'accepted_prediction_tokens': 0, 'audio_tokens': 0, 'reasoning_tokens': 0, 'rejected_prediction_tokens': 0}, 'prompt_tokens_details': {'audio_tokens': 0, 'cached_tokens': 0}}, 'model_name': 'gpt-3.5-turbo-0125', 'system_fingerprint': None, 'finish_reason': 'stop', 'logprobs': None}, id='run-bd3e855d-ffe4-410d-8961-1e9dcf024113-0', usage_metadata={'input_tokens': 790, 'output_tokens': 103, 'total_tokens': 893})]}\n",
      "{'messages': [AIMessage(content='I found information on the current weather in Louisiana, not Los Angeles. The current weather in Louisiana is as follows:\\n- Temperature: 31.5°F (feels like 25.0°F)\\n- Condition: Clear\\n- Wind: 10.8 km/h from the Northeast\\n- Pressure: 30.23 in\\n- Humidity: 95%\\n\\nIf you need the weather in Los Angeles specifically, I can look that up for you. Would you like me to do that?', response_metadata={'token_usage': {'completion_tokens': 103, 'prompt_tokens': 790, 'total_tokens': 893, 'completion_tokens_details': {'accepted_prediction_tokens': 0, 'audio_tokens': 0, 'reasoning_tokens': 0, 'rejected_prediction_tokens': 0}, 'prompt_tokens_details': {'audio_tokens': 0, 'cached_tokens': 0}}, 'model_name': 'gpt-3.5-turbo-0125', 'system_fingerprint': None, 'finish_reason': 'stop', 'logprobs': None}, id='run-bd3e855d-ffe4-410d-8961-1e9dcf024113-0', usage_metadata={'input_tokens': 790, 'output_tokens': 103, 'total_tokens': 893})]}\n",
      "-----\n"
     ]
    }
   ],
   "execution_count": 19
  },
  {
   "metadata": {},
   "cell_type": "markdown",
   "source": "### **Time Travel**",
   "id": "38d9918fedd156d1"
  },
  {
   "metadata": {
    "ExecuteTime": {
     "end_time": "2025-02-01T09:53:03.973795Z",
     "start_time": "2025-02-01T09:53:03.964701Z"
    }
   },
   "cell_type": "code",
   "source": [
    "states = []\n",
    "for state in abot.graph.get_state_history(thread):\n",
    "    print(state)\n",
    "    print(\"--\")\n",
    "    states.append(state)"
   ],
   "id": "fa040a5916ca04f6",
   "outputs": [
    {
     "name": "stdout",
     "output_type": "stream",
     "text": [
      "StateSnapshot(values={'messages': [HumanMessage(content='What is the weather in LA', id='5b0ab39a-95da-4ee3-976b-484112656742'), AIMessage(content='', additional_kwargs={'tool_calls': [{'id': 'call_VBUEQhlapeGe8aIAkDZMTQOF', 'function': {'arguments': '{\"query\":\"current weather in Los Angeles\"}', 'name': 'tavily_search_results_json'}, 'type': 'function'}]}, response_metadata={'token_usage': {'completion_tokens': 23, 'prompt_tokens': 152, 'total_tokens': 175, 'completion_tokens_details': {'accepted_prediction_tokens': 0, 'audio_tokens': 0, 'reasoning_tokens': 0, 'rejected_prediction_tokens': 0}, 'prompt_tokens_details': {'audio_tokens': 0, 'cached_tokens': 0}}, 'model_name': 'gpt-3.5-turbo-0125', 'system_fingerprint': None, 'finish_reason': 'tool_calls', 'logprobs': None}, id='run-22638856-15e9-482d-9bb4-439bc0ebcc1f-0', tool_calls=[{'name': 'tavily_search_results_json', 'args': {'query': 'current weather in Louisiana'}, 'id': 'call_VBUEQhlapeGe8aIAkDZMTQOF', 'type': 'tool_call'}], usage_metadata={'input_tokens': 152, 'output_tokens': 23, 'total_tokens': 175}), ToolMessage(content='[{\\'url\\': \\'https://www.weatherapi.com/\\', \\'content\\': \"{\\'location\\': {\\'name\\': \\'Louisiana\\', \\'region\\': \\'Missouri\\', \\'country\\': \\'USA United States of America\\', \\'lat\\': 39.4411, \\'lon\\': -91.0551, \\'tz_id\\': \\'America/Chicago\\', \\'localtime_epoch\\': 1738403566, \\'localtime\\': \\'2025-02-01 03:52\\'}, \\'current\\': {\\'last_updated_epoch\\': 1738403100, \\'last_updated\\': \\'2025-02-01 03:45\\', \\'temp_c\\': -0.3, \\'temp_f\\': 31.5, \\'is_day\\': 0, \\'condition\\': {\\'text\\': \\'Clear\\', \\'icon\\': \\'//cdn.weatherapi.com/weather/64x64/night/113.png\\', \\'code\\': 1000}, \\'wind_mph\\': 6.7, \\'wind_kph\\': 10.8, \\'wind_degree\\': 54, \\'wind_dir\\': \\'NE\\', \\'pressure_mb\\': 1024.0, \\'pressure_in\\': 30.23, \\'precip_mm\\': 0.0, \\'precip_in\\': 0.0, \\'humidity\\': 95, \\'cloud\\': 0, \\'feelslike_c\\': -3.9, \\'feelslike_f\\': 25.0, \\'windchill_c\\': -4.7, \\'windchill_f\\': 23.6, \\'heatindex_c\\': -1.5, \\'heatindex_f\\': 29.3, \\'dewpoint_c\\': -2.0, \\'dewpoint_f\\': 28.3, \\'vis_km\\': 16.0, \\'vis_miles\\': 9.0, \\'uv\\': 0.0, \\'gust_mph\\': 12.7, \\'gust_kph\\': 20.4}}\"}, {\\'url\\': \\'https://forecast.weather.gov/zipcity.php?inputstring=Baton+Rouge,LA\\', \\'content\\': \\'FORECAST  Last update 19 Nov 4:53 am CST Hourly Weather Forecast Low: 71 °F High: 80 °F Tuesday Night High: 68 °F Wednesday Night High: 66 °F Thursday Night High: 63 °F Friday Night Tuesday Night Wednesday Night Thursday Night Friday Night Saturday Night Sunday Night Additional Forecasts and Information ZONE AREA FORECAST FOR EAST BATON ROUGE PARISH, LA Hourly Weather Forecast Air Quality Forecasts Marine Weather Aviation Weather NWS New Orleans/Baton Rouge Home ABOUT THIS FORECAST Hourly Weather Forecast Winter Weather Forecasts Fire Weather Outlooks Surface Weather FORECAST Local Forecast International Forecasts Fire Weather Current Graphical Forecast Maps Aviation Weather Fire Weather Tsunami Warning System International Weather WEATHER SAFETY NWS Education Home National Weather Service Please Contact Us. Disclaimer\\'}]', name='tavily_search_results_json', id='42e6cdfa-06d5-487c-a041-fe20d5584e04', tool_call_id='call_VBUEQhlapeGe8aIAkDZMTQOF'), AIMessage(content='I found information on the current weather in Louisiana, not Los Angeles. The current weather in Louisiana is as follows:\\n- Temperature: 31.5°F (feels like 25.0°F)\\n- Condition: Clear\\n- Wind: 10.8 km/h from the Northeast\\n- Pressure: 30.23 in\\n- Humidity: 95%\\n\\nIf you need the weather in Los Angeles specifically, I can look that up for you. Would you like me to do that?', response_metadata={'token_usage': {'completion_tokens': 103, 'prompt_tokens': 790, 'total_tokens': 893, 'completion_tokens_details': {'accepted_prediction_tokens': 0, 'audio_tokens': 0, 'reasoning_tokens': 0, 'rejected_prediction_tokens': 0}, 'prompt_tokens_details': {'audio_tokens': 0, 'cached_tokens': 0}}, 'model_name': 'gpt-3.5-turbo-0125', 'system_fingerprint': None, 'finish_reason': 'stop', 'logprobs': None}, id='run-bd3e855d-ffe4-410d-8961-1e9dcf024113-0', usage_metadata={'input_tokens': 790, 'output_tokens': 103, 'total_tokens': 893})]}, next=(), config={'configurable': {'thread_id': '3', 'thread_ts': '1efe0824-c1cd-66f5-8004-9ee2fac3367c'}}, metadata={'source': 'loop', 'step': 4, 'writes': {'llm': {'messages': [AIMessage(content='I found information on the current weather in Louisiana, not Los Angeles. The current weather in Louisiana is as follows:\\n- Temperature: 31.5°F (feels like 25.0°F)\\n- Condition: Clear\\n- Wind: 10.8 km/h from the Northeast\\n- Pressure: 30.23 in\\n- Humidity: 95%\\n\\nIf you need the weather in Los Angeles specifically, I can look that up for you. Would you like me to do that?', response_metadata={'token_usage': {'completion_tokens': 103, 'prompt_tokens': 790, 'total_tokens': 893, 'completion_tokens_details': {'accepted_prediction_tokens': 0, 'audio_tokens': 0, 'reasoning_tokens': 0, 'rejected_prediction_tokens': 0}, 'prompt_tokens_details': {'audio_tokens': 0, 'cached_tokens': 0}}, 'model_name': 'gpt-3.5-turbo-0125', 'system_fingerprint': None, 'finish_reason': 'stop', 'logprobs': None}, id='run-bd3e855d-ffe4-410d-8961-1e9dcf024113-0', usage_metadata={'input_tokens': 790, 'output_tokens': 103, 'total_tokens': 893})]}}}, created_at='2025-02-01T09:52:49.910347+00:00', parent_config={'configurable': {'thread_id': '3', 'thread_ts': '1efe0824-b270-608a-8003-2e6f29afc2ab'}})\n",
      "--\n",
      "StateSnapshot(values={'messages': [HumanMessage(content='What is the weather in LA', id='5b0ab39a-95da-4ee3-976b-484112656742'), AIMessage(content='', additional_kwargs={'tool_calls': [{'id': 'call_VBUEQhlapeGe8aIAkDZMTQOF', 'function': {'arguments': '{\"query\":\"current weather in Los Angeles\"}', 'name': 'tavily_search_results_json'}, 'type': 'function'}]}, response_metadata={'token_usage': {'completion_tokens': 23, 'prompt_tokens': 152, 'total_tokens': 175, 'completion_tokens_details': {'accepted_prediction_tokens': 0, 'audio_tokens': 0, 'reasoning_tokens': 0, 'rejected_prediction_tokens': 0}, 'prompt_tokens_details': {'audio_tokens': 0, 'cached_tokens': 0}}, 'model_name': 'gpt-3.5-turbo-0125', 'system_fingerprint': None, 'finish_reason': 'tool_calls', 'logprobs': None}, id='run-22638856-15e9-482d-9bb4-439bc0ebcc1f-0', tool_calls=[{'name': 'tavily_search_results_json', 'args': {'query': 'current weather in Louisiana'}, 'id': 'call_VBUEQhlapeGe8aIAkDZMTQOF', 'type': 'tool_call'}], usage_metadata={'input_tokens': 152, 'output_tokens': 23, 'total_tokens': 175}), ToolMessage(content='[{\\'url\\': \\'https://www.weatherapi.com/\\', \\'content\\': \"{\\'location\\': {\\'name\\': \\'Louisiana\\', \\'region\\': \\'Missouri\\', \\'country\\': \\'USA United States of America\\', \\'lat\\': 39.4411, \\'lon\\': -91.0551, \\'tz_id\\': \\'America/Chicago\\', \\'localtime_epoch\\': 1738403566, \\'localtime\\': \\'2025-02-01 03:52\\'}, \\'current\\': {\\'last_updated_epoch\\': 1738403100, \\'last_updated\\': \\'2025-02-01 03:45\\', \\'temp_c\\': -0.3, \\'temp_f\\': 31.5, \\'is_day\\': 0, \\'condition\\': {\\'text\\': \\'Clear\\', \\'icon\\': \\'//cdn.weatherapi.com/weather/64x64/night/113.png\\', \\'code\\': 1000}, \\'wind_mph\\': 6.7, \\'wind_kph\\': 10.8, \\'wind_degree\\': 54, \\'wind_dir\\': \\'NE\\', \\'pressure_mb\\': 1024.0, \\'pressure_in\\': 30.23, \\'precip_mm\\': 0.0, \\'precip_in\\': 0.0, \\'humidity\\': 95, \\'cloud\\': 0, \\'feelslike_c\\': -3.9, \\'feelslike_f\\': 25.0, \\'windchill_c\\': -4.7, \\'windchill_f\\': 23.6, \\'heatindex_c\\': -1.5, \\'heatindex_f\\': 29.3, \\'dewpoint_c\\': -2.0, \\'dewpoint_f\\': 28.3, \\'vis_km\\': 16.0, \\'vis_miles\\': 9.0, \\'uv\\': 0.0, \\'gust_mph\\': 12.7, \\'gust_kph\\': 20.4}}\"}, {\\'url\\': \\'https://forecast.weather.gov/zipcity.php?inputstring=Baton+Rouge,LA\\', \\'content\\': \\'FORECAST  Last update 19 Nov 4:53 am CST Hourly Weather Forecast Low: 71 °F High: 80 °F Tuesday Night High: 68 °F Wednesday Night High: 66 °F Thursday Night High: 63 °F Friday Night Tuesday Night Wednesday Night Thursday Night Friday Night Saturday Night Sunday Night Additional Forecasts and Information ZONE AREA FORECAST FOR EAST BATON ROUGE PARISH, LA Hourly Weather Forecast Air Quality Forecasts Marine Weather Aviation Weather NWS New Orleans/Baton Rouge Home ABOUT THIS FORECAST Hourly Weather Forecast Winter Weather Forecasts Fire Weather Outlooks Surface Weather FORECAST Local Forecast International Forecasts Fire Weather Current Graphical Forecast Maps Aviation Weather Fire Weather Tsunami Warning System International Weather WEATHER SAFETY NWS Education Home National Weather Service Please Contact Us. Disclaimer\\'}]', name='tavily_search_results_json', id='42e6cdfa-06d5-487c-a041-fe20d5584e04', tool_call_id='call_VBUEQhlapeGe8aIAkDZMTQOF')]}, next=('llm',), config={'configurable': {'thread_id': '3', 'thread_ts': '1efe0824-b270-608a-8003-2e6f29afc2ab'}}, metadata={'source': 'loop', 'step': 3, 'writes': {'action': {'messages': [ToolMessage(content='[{\\'url\\': \\'https://www.weatherapi.com/\\', \\'content\\': \"{\\'location\\': {\\'name\\': \\'Louisiana\\', \\'region\\': \\'Missouri\\', \\'country\\': \\'USA United States of America\\', \\'lat\\': 39.4411, \\'lon\\': -91.0551, \\'tz_id\\': \\'America/Chicago\\', \\'localtime_epoch\\': 1738403566, \\'localtime\\': \\'2025-02-01 03:52\\'}, \\'current\\': {\\'last_updated_epoch\\': 1738403100, \\'last_updated\\': \\'2025-02-01 03:45\\', \\'temp_c\\': -0.3, \\'temp_f\\': 31.5, \\'is_day\\': 0, \\'condition\\': {\\'text\\': \\'Clear\\', \\'icon\\': \\'//cdn.weatherapi.com/weather/64x64/night/113.png\\', \\'code\\': 1000}, \\'wind_mph\\': 6.7, \\'wind_kph\\': 10.8, \\'wind_degree\\': 54, \\'wind_dir\\': \\'NE\\', \\'pressure_mb\\': 1024.0, \\'pressure_in\\': 30.23, \\'precip_mm\\': 0.0, \\'precip_in\\': 0.0, \\'humidity\\': 95, \\'cloud\\': 0, \\'feelslike_c\\': -3.9, \\'feelslike_f\\': 25.0, \\'windchill_c\\': -4.7, \\'windchill_f\\': 23.6, \\'heatindex_c\\': -1.5, \\'heatindex_f\\': 29.3, \\'dewpoint_c\\': -2.0, \\'dewpoint_f\\': 28.3, \\'vis_km\\': 16.0, \\'vis_miles\\': 9.0, \\'uv\\': 0.0, \\'gust_mph\\': 12.7, \\'gust_kph\\': 20.4}}\"}, {\\'url\\': \\'https://forecast.weather.gov/zipcity.php?inputstring=Baton+Rouge,LA\\', \\'content\\': \\'FORECAST  Last update 19 Nov 4:53 am CST Hourly Weather Forecast Low: 71 °F High: 80 °F Tuesday Night High: 68 °F Wednesday Night High: 66 °F Thursday Night High: 63 °F Friday Night Tuesday Night Wednesday Night Thursday Night Friday Night Saturday Night Sunday Night Additional Forecasts and Information ZONE AREA FORECAST FOR EAST BATON ROUGE PARISH, LA Hourly Weather Forecast Air Quality Forecasts Marine Weather Aviation Weather NWS New Orleans/Baton Rouge Home ABOUT THIS FORECAST Hourly Weather Forecast Winter Weather Forecasts Fire Weather Outlooks Surface Weather FORECAST Local Forecast International Forecasts Fire Weather Current Graphical Forecast Maps Aviation Weather Fire Weather Tsunami Warning System International Weather WEATHER SAFETY NWS Education Home National Weather Service Please Contact Us. Disclaimer\\'}]', name='tavily_search_results_json', id='42e6cdfa-06d5-487c-a041-fe20d5584e04', tool_call_id='call_VBUEQhlapeGe8aIAkDZMTQOF')]}}}, created_at='2025-02-01T09:52:48.299226+00:00', parent_config={'configurable': {'thread_id': '3', 'thread_ts': '1efe0824-284d-65bc-8002-ad0904c3e284'}})\n",
      "--\n",
      "StateSnapshot(values={'messages': [HumanMessage(content='What is the weather in LA', id='5b0ab39a-95da-4ee3-976b-484112656742'), AIMessage(content='', additional_kwargs={'tool_calls': [{'id': 'call_VBUEQhlapeGe8aIAkDZMTQOF', 'function': {'arguments': '{\"query\":\"current weather in Los Angeles\"}', 'name': 'tavily_search_results_json'}, 'type': 'function'}]}, response_metadata={'token_usage': {'completion_tokens': 23, 'prompt_tokens': 152, 'total_tokens': 175, 'completion_tokens_details': {'accepted_prediction_tokens': 0, 'audio_tokens': 0, 'reasoning_tokens': 0, 'rejected_prediction_tokens': 0}, 'prompt_tokens_details': {'audio_tokens': 0, 'cached_tokens': 0}}, 'model_name': 'gpt-3.5-turbo-0125', 'system_fingerprint': None, 'finish_reason': 'tool_calls', 'logprobs': None}, id='run-22638856-15e9-482d-9bb4-439bc0ebcc1f-0', tool_calls=[{'name': 'tavily_search_results_json', 'args': {'query': 'current weather in Louisiana'}, 'id': 'call_VBUEQhlapeGe8aIAkDZMTQOF', 'type': 'tool_call'}], usage_metadata={'input_tokens': 152, 'output_tokens': 23, 'total_tokens': 175})]}, next=('action',), config={'configurable': {'thread_id': '3', 'thread_ts': '1efe0824-284d-65bc-8002-ad0904c3e284'}}, metadata={'source': 'update', 'step': 2, 'writes': {'llm': {'messages': [HumanMessage(content='What is the weather in LA', id='5b0ab39a-95da-4ee3-976b-484112656742'), AIMessage(content='', additional_kwargs={'tool_calls': [{'id': 'call_VBUEQhlapeGe8aIAkDZMTQOF', 'function': {'arguments': '{\"query\":\"current weather in Los Angeles\"}', 'name': 'tavily_search_results_json'}, 'type': 'function'}]}, response_metadata={'token_usage': {'completion_tokens': 23, 'prompt_tokens': 152, 'total_tokens': 175, 'completion_tokens_details': {'accepted_prediction_tokens': 0, 'audio_tokens': 0, 'reasoning_tokens': 0, 'rejected_prediction_tokens': 0}, 'prompt_tokens_details': {'audio_tokens': 0, 'cached_tokens': 0}}, 'model_name': 'gpt-3.5-turbo-0125', 'system_fingerprint': None, 'finish_reason': 'tool_calls', 'logprobs': None}, id='run-22638856-15e9-482d-9bb4-439bc0ebcc1f-0', tool_calls=[{'name': 'tavily_search_results_json', 'args': {'query': 'current weather in Louisiana'}, 'id': 'call_VBUEQhlapeGe8aIAkDZMTQOF', 'type': 'tool_call'}], usage_metadata={'input_tokens': 152, 'output_tokens': 23, 'total_tokens': 175})]}}}, created_at='2025-02-01T09:52:33.814674+00:00', parent_config={'configurable': {'thread_id': '3', 'thread_ts': '1efe0823-0297-6b56-8001-8b2ec871ea4f'}})\n",
      "--\n",
      "StateSnapshot(values={'messages': [HumanMessage(content='What is the weather in LA', id='5b0ab39a-95da-4ee3-976b-484112656742'), AIMessage(content='', additional_kwargs={'tool_calls': [{'id': 'call_VBUEQhlapeGe8aIAkDZMTQOF', 'function': {'arguments': '{\"query\":\"current weather in Los Angeles\"}', 'name': 'tavily_search_results_json'}, 'type': 'function'}]}, response_metadata={'token_usage': {'completion_tokens': 23, 'prompt_tokens': 152, 'total_tokens': 175, 'completion_tokens_details': {'accepted_prediction_tokens': 0, 'audio_tokens': 0, 'reasoning_tokens': 0, 'rejected_prediction_tokens': 0}, 'prompt_tokens_details': {'audio_tokens': 0, 'cached_tokens': 0}}, 'model_name': 'gpt-3.5-turbo-0125', 'system_fingerprint': None, 'finish_reason': 'tool_calls', 'logprobs': None}, id='run-22638856-15e9-482d-9bb4-439bc0ebcc1f-0', tool_calls=[{'name': 'tavily_search_results_json', 'args': {'query': 'current weather in Los Angeles'}, 'id': 'call_VBUEQhlapeGe8aIAkDZMTQOF', 'type': 'tool_call'}], usage_metadata={'input_tokens': 152, 'output_tokens': 23, 'total_tokens': 175})]}, next=('action',), config={'configurable': {'thread_id': '3', 'thread_ts': '1efe0823-0297-6b56-8001-8b2ec871ea4f'}}, metadata={'source': 'loop', 'step': 1, 'writes': {'llm': {'messages': [AIMessage(content='', additional_kwargs={'tool_calls': [{'id': 'call_VBUEQhlapeGe8aIAkDZMTQOF', 'function': {'arguments': '{\"query\":\"current weather in Los Angeles\"}', 'name': 'tavily_search_results_json'}, 'type': 'function'}]}, response_metadata={'token_usage': {'completion_tokens': 23, 'prompt_tokens': 152, 'total_tokens': 175, 'completion_tokens_details': {'accepted_prediction_tokens': 0, 'audio_tokens': 0, 'reasoning_tokens': 0, 'rejected_prediction_tokens': 0}, 'prompt_tokens_details': {'audio_tokens': 0, 'cached_tokens': 0}}, 'model_name': 'gpt-3.5-turbo-0125', 'system_fingerprint': None, 'finish_reason': 'tool_calls', 'logprobs': None}, id='run-22638856-15e9-482d-9bb4-439bc0ebcc1f-0', tool_calls=[{'name': 'tavily_search_results_json', 'args': {'query': 'current weather in Los Angeles'}, 'id': 'call_VBUEQhlapeGe8aIAkDZMTQOF', 'type': 'tool_call'}], usage_metadata={'input_tokens': 152, 'output_tokens': 23, 'total_tokens': 175})]}}}, created_at='2025-02-01T09:52:03.016994+00:00', parent_config={'configurable': {'thread_id': '3', 'thread_ts': '1efe0822-f7ff-61dd-8000-d8ed8d9b714f'}})\n",
      "--\n",
      "StateSnapshot(values={'messages': [HumanMessage(content='What is the weather in LA', id='5b0ab39a-95da-4ee3-976b-484112656742')]}, next=('llm',), config={'configurable': {'thread_id': '3', 'thread_ts': '1efe0822-f7ff-61dd-8000-d8ed8d9b714f'}}, metadata={'source': 'loop', 'step': 0, 'writes': None}, created_at='2025-02-01T09:52:01.905916+00:00', parent_config={'configurable': {'thread_id': '3', 'thread_ts': '1efe0822-f7ff-61dc-bfff-c3e2996a4ab6'}})\n",
      "--\n",
      "StateSnapshot(values={'messages': []}, next=('__start__',), config={'configurable': {'thread_id': '3', 'thread_ts': '1efe0822-f7ff-61dc-bfff-c3e2996a4ab6'}}, metadata={'source': 'input', 'step': -1, 'writes': {'messages': [HumanMessage(content='What is the weather in LA')]}}, created_at='2025-02-01T09:52:01.905916+00:00', parent_config=None)\n",
      "--\n"
     ]
    }
   ],
   "execution_count": 20
  },
  {
   "metadata": {
    "ExecuteTime": {
     "end_time": "2025-02-01T09:53:08.971827Z",
     "start_time": "2025-02-01T09:53:08.965927Z"
    }
   },
   "cell_type": "code",
   "source": "to_replay = states[-1]",
   "id": "b6791e5d2fcc50be",
   "outputs": [],
   "execution_count": 21
  },
  {
   "metadata": {
    "ExecuteTime": {
     "end_time": "2025-02-01T09:53:14.060836Z",
     "start_time": "2025-02-01T09:53:14.056164Z"
    }
   },
   "cell_type": "code",
   "source": "to_replay",
   "id": "1b71613413645219",
   "outputs": [
    {
     "data": {
      "text/plain": [
       "StateSnapshot(values={'messages': []}, next=('__start__',), config={'configurable': {'thread_id': '3', 'thread_ts': '1efe0822-f7ff-61dc-bfff-c3e2996a4ab6'}}, metadata={'source': 'input', 'step': -1, 'writes': {'messages': [HumanMessage(content='What is the weather in LA')]}}, created_at='2025-02-01T09:52:01.905916+00:00', parent_config=None)"
      ]
     },
     "execution_count": 22,
     "metadata": {},
     "output_type": "execute_result"
    }
   ],
   "execution_count": 22
  },
  {
   "metadata": {
    "ExecuteTime": {
     "end_time": "2025-02-01T09:53:20.410422Z",
     "start_time": "2025-02-01T09:53:19.266126Z"
    }
   },
   "cell_type": "code",
   "source": [
    "for event in abot.graph.stream(None, to_replay.config):\n",
    "    for k, v in event.items():\n",
    "        print(v)"
   ],
   "id": "63cc93ca81301c5e",
   "outputs": [
    {
     "name": "stdout",
     "output_type": "stream",
     "text": [
      "{'messages': [HumanMessage(content='What is the weather in LA', id='60bf069a-7f3e-496c-9908-a50092ab3e24'), AIMessage(content='', additional_kwargs={'tool_calls': [{'id': 'call_6d6LZQV2Or0onFtdxXv1yxsj', 'function': {'arguments': '{\"query\":\"weather in Los Angeles\"}', 'name': 'tavily_search_results_json'}, 'type': 'function'}]}, response_metadata={'token_usage': {'completion_tokens': 22, 'prompt_tokens': 152, 'total_tokens': 174, 'completion_tokens_details': {'accepted_prediction_tokens': 0, 'audio_tokens': 0, 'reasoning_tokens': 0, 'rejected_prediction_tokens': 0}, 'prompt_tokens_details': {'audio_tokens': 0, 'cached_tokens': 0}}, 'model_name': 'gpt-3.5-turbo-0125', 'system_fingerprint': None, 'finish_reason': 'tool_calls', 'logprobs': None}, id='run-67358682-bb08-4bae-8ff3-a49bfbd09418-0', tool_calls=[{'name': 'tavily_search_results_json', 'args': {'query': 'weather in Los Angeles'}, 'id': 'call_6d6LZQV2Or0onFtdxXv1yxsj', 'type': 'tool_call'}], usage_metadata={'input_tokens': 152, 'output_tokens': 22, 'total_tokens': 174})]}\n",
      "{'messages': [AIMessage(content='', additional_kwargs={'tool_calls': [{'id': 'call_6d6LZQV2Or0onFtdxXv1yxsj', 'function': {'arguments': '{\"query\":\"weather in Los Angeles\"}', 'name': 'tavily_search_results_json'}, 'type': 'function'}]}, response_metadata={'token_usage': {'completion_tokens': 22, 'prompt_tokens': 152, 'total_tokens': 174, 'completion_tokens_details': {'accepted_prediction_tokens': 0, 'audio_tokens': 0, 'reasoning_tokens': 0, 'rejected_prediction_tokens': 0}, 'prompt_tokens_details': {'audio_tokens': 0, 'cached_tokens': 0}}, 'model_name': 'gpt-3.5-turbo-0125', 'system_fingerprint': None, 'finish_reason': 'tool_calls', 'logprobs': None}, id='run-67358682-bb08-4bae-8ff3-a49bfbd09418-0', tool_calls=[{'name': 'tavily_search_results_json', 'args': {'query': 'weather in Los Angeles'}, 'id': 'call_6d6LZQV2Or0onFtdxXv1yxsj', 'type': 'tool_call'}], usage_metadata={'input_tokens': 152, 'output_tokens': 22, 'total_tokens': 174})]}\n"
     ]
    }
   ],
   "execution_count": 23
  }
 ],
 "metadata": {
  "kernelspec": {
   "display_name": "Python 3 (ipykernel)",
   "language": "python",
   "name": "python3"
  },
  "language_info": {
   "codemirror_mode": {
    "name": "ipython",
    "version": 2
   },
   "file_extension": ".py",
   "mimetype": "text/x-python",
   "name": "python",
   "nbconvert_exporter": "python",
   "pygments_lexer": "ipython2",
   "version": "2.7.6"
  }
 },
 "nbformat": 4,
 "nbformat_minor": 5
}
