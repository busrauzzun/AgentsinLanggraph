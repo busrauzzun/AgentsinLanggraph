{
 "cells": [
  {
   "cell_type": "code",
   "id": "initial_id",
   "metadata": {
    "collapsed": true,
    "ExecuteTime": {
     "end_time": "2025-01-31T13:11:14.034365Z",
     "start_time": "2025-01-31T13:11:14.008739Z"
    }
   },
   "source": [
    "from multiprocessing.managers import State\n",
    "\n",
    "from dotenv import load_dotenv\n",
    "load_dotenv()"
   ],
   "outputs": [
    {
     "data": {
      "text/plain": [
       "True"
      ]
     },
     "execution_count": 1,
     "metadata": {},
     "output_type": "execute_result"
    }
   ],
   "execution_count": 1
  },
  {
   "metadata": {
    "ExecuteTime": {
     "end_time": "2025-01-31T13:12:10.111074Z",
     "start_time": "2025-01-31T13:12:08.760814Z"
    }
   },
   "cell_type": "code",
   "source": [
    "from langgraph.graph import StateGraph, END\n",
    "from typing import TypedDict, Annotated\n",
    "import operator\n",
    "from langgraph.checkpoint.sqlite import SqliteSaver"
   ],
   "id": "222d9f2623d12241",
   "outputs": [],
   "execution_count": 2
  },
  {
   "metadata": {
    "ExecuteTime": {
     "end_time": "2025-01-31T13:13:13.916606Z",
     "start_time": "2025-01-31T13:13:13.912328Z"
    }
   },
   "cell_type": "code",
   "source": [
    "class AgentState(TypedDict):\n",
    "    lnode:str\n",
    "    scratch:str\n",
    "    count: Annotated[int, operator.add]"
   ],
   "id": "ca5fa9557577898b",
   "outputs": [],
   "execution_count": 3
  },
  {
   "metadata": {
    "ExecuteTime": {
     "end_time": "2025-01-31T13:17:32.862271Z",
     "start_time": "2025-01-31T13:17:32.858406Z"
    }
   },
   "cell_type": "code",
   "source": [
    "def node1(state: AgentState):\n",
    "    print(f\"node1, count:{state['count']}\")\n",
    "    return {\"lnode\":\"node1\", 'count':1,}\n",
    "\n",
    "def node2(state: AgentState):\n",
    "    print(f\"node2, count:{state['count']}\")\n",
    "    return {\"lnode\":\"node2\", 'count':1,}"
   ],
   "id": "1e80d82624b34814",
   "outputs": [],
   "execution_count": 6
  },
  {
   "metadata": {
    "ExecuteTime": {
     "end_time": "2025-01-31T13:16:02.181913Z",
     "start_time": "2025-01-31T13:16:02.177175Z"
    }
   },
   "cell_type": "code",
   "source": [
    "def should_continue(state:AgentState):\n",
    "    return state['count'] < 3"
   ],
   "id": "4dc0770bb633af03",
   "outputs": [],
   "execution_count": 5
  },
  {
   "metadata": {
    "ExecuteTime": {
     "end_time": "2025-01-31T13:19:04.193732Z",
     "start_time": "2025-01-31T13:19:04.188528Z"
    }
   },
   "cell_type": "code",
   "source": [
    "builder = StateGraph(AgentState)\n",
    "builder.add_node(\"Node1\", node1)\n",
    "builder.add_node(\"Node2\", node2)\n",
    "builder.add_edge(\"Node1\", \"Node2\")\n",
    "builder.add_conditional_edges(\"Node2\", should_continue,\n",
    "                              {True:\"Node1\", False:END})\n",
    "builder.set_entry_point(\"Node1\")"
   ],
   "id": "245b673815ef26b9",
   "outputs": [],
   "execution_count": 7
  },
  {
   "metadata": {
    "ExecuteTime": {
     "end_time": "2025-01-31T13:19:38.865758Z",
     "start_time": "2025-01-31T13:19:38.859063Z"
    }
   },
   "cell_type": "code",
   "source": [
    "memory = SqliteSaver.from_conn_string(\":memory:\")\n",
    "graph = builder.compile(checkpointer=memory)"
   ],
   "id": "710070f93c6a8058",
   "outputs": [],
   "execution_count": 8
  },
  {
   "metadata": {
    "ExecuteTime": {
     "end_time": "2025-01-31T13:27:34.328756Z",
     "start_time": "2025-01-31T13:27:34.296472Z"
    }
   },
   "cell_type": "code",
   "source": [
    "thread = {\"configurable\": {\"thread_id\": str(10)}}\n",
    "graph.invoke({'scratch':'hi','count':0}, thread)"
   ],
   "id": "b52906d6e488539b",
   "outputs": [
    {
     "name": "stdout",
     "output_type": "stream",
     "text": [
      "node1, count:0\n",
      "node2, count:1\n",
      "node1, count:2\n",
      "node2, count:3\n"
     ]
    },
    {
     "data": {
      "text/plain": [
       "{'lnode': 'node2', 'scratch': 'hi', 'count': 4}"
      ]
     },
     "execution_count": 16,
     "metadata": {},
     "output_type": "execute_result"
    }
   ],
   "execution_count": 16
  },
  {
   "metadata": {
    "ExecuteTime": {
     "end_time": "2025-01-31T13:27:35.363990Z",
     "start_time": "2025-01-31T13:27:35.357739Z"
    }
   },
   "cell_type": "code",
   "source": "graph.get_state(thread)",
   "id": "afa67be680be6a4a",
   "outputs": [
    {
     "data": {
      "text/plain": [
       "StateSnapshot(values={'lnode': 'node2', 'scratch': 'hi', 'count': 4}, next=(), config={'configurable': {'thread_id': '10', 'thread_ts': '1efdfd72-1689-6a96-8004-675c8abfd1d0'}}, metadata={'source': 'loop', 'step': 4, 'writes': {'Node2': {'lnode': 'node2', 'count': 1}}}, created_at='2025-01-31T13:27:34.324085+00:00', parent_config={'configurable': {'thread_id': '10', 'thread_ts': '1efdfd72-167f-6e87-8003-1a1cf3d9d3be'}})"
      ]
     },
     "execution_count": 17,
     "metadata": {},
     "output_type": "execute_result"
    }
   ],
   "execution_count": 17
  },
  {
   "metadata": {
    "ExecuteTime": {
     "end_time": "2025-01-31T13:27:36.861351Z",
     "start_time": "2025-01-31T13:27:36.855846Z"
    }
   },
   "cell_type": "code",
   "source": [
    "for state in graph.get_state_history(thread):\n",
    "    print(state, \"\\n\")"
   ],
   "id": "4ec96a02361ad0ee",
   "outputs": [
    {
     "name": "stdout",
     "output_type": "stream",
     "text": [
      "StateSnapshot(values={'lnode': 'node2', 'scratch': 'hi', 'count': 4}, next=(), config={'configurable': {'thread_id': '10', 'thread_ts': '1efdfd72-1689-6a96-8004-675c8abfd1d0'}}, metadata={'source': 'loop', 'step': 4, 'writes': {'Node2': {'lnode': 'node2', 'count': 1}}}, created_at='2025-01-31T13:27:34.324085+00:00', parent_config={'configurable': {'thread_id': '10', 'thread_ts': '1efdfd72-167f-6e87-8003-1a1cf3d9d3be'}}) \n",
      "\n",
      "StateSnapshot(values={'lnode': 'node1', 'scratch': 'hi', 'count': 3}, next=('Node2',), config={'configurable': {'thread_id': '10', 'thread_ts': '1efdfd72-167f-6e87-8003-1a1cf3d9d3be'}}, metadata={'source': 'loop', 'step': 3, 'writes': {'Node1': {'lnode': 'node1', 'count': 1}}}, created_at='2025-01-31T13:27:34.320090+00:00', parent_config={'configurable': {'thread_id': '10', 'thread_ts': '1efdfd72-1677-6c6f-8002-e2753d0af3ef'}}) \n",
      "\n",
      "StateSnapshot(values={'lnode': 'node2', 'scratch': 'hi', 'count': 2}, next=('Node1',), config={'configurable': {'thread_id': '10', 'thread_ts': '1efdfd72-1677-6c6f-8002-e2753d0af3ef'}}, metadata={'source': 'loop', 'step': 2, 'writes': {'Node2': {'lnode': 'node2', 'count': 1}}}, created_at='2025-01-31T13:27:34.316759+00:00', parent_config={'configurable': {'thread_id': '10', 'thread_ts': '1efdfd72-1667-6924-8001-025cfb6504f3'}}) \n",
      "\n",
      "StateSnapshot(values={'lnode': 'node1', 'scratch': 'hi', 'count': 1}, next=('Node2',), config={'configurable': {'thread_id': '10', 'thread_ts': '1efdfd72-1667-6924-8001-025cfb6504f3'}}, metadata={'source': 'loop', 'step': 1, 'writes': {'Node1': {'lnode': 'node1', 'count': 1}}}, created_at='2025-01-31T13:27:34.310122+00:00', parent_config={'configurable': {'thread_id': '10', 'thread_ts': '1efdfd72-165a-6703-8000-41f7fb02bb39'}}) \n",
      "\n",
      "StateSnapshot(values={'scratch': 'hi', 'count': 0}, next=('Node1',), config={'configurable': {'thread_id': '10', 'thread_ts': '1efdfd72-165a-6703-8000-41f7fb02bb39'}}, metadata={'source': 'loop', 'step': 0, 'writes': None}, created_at='2025-01-31T13:27:34.304742+00:00', parent_config={'configurable': {'thread_id': '10', 'thread_ts': '1efdfd72-1650-60fa-bfff-bf65bb766dbf'}}) \n",
      "\n",
      "StateSnapshot(values={'count': 0}, next=('__start__',), config={'configurable': {'thread_id': '10', 'thread_ts': '1efdfd72-1650-60fa-bfff-bf65bb766dbf'}}, metadata={'source': 'input', 'step': -1, 'writes': {'scratch': 'hi', 'count': 0}}, created_at='2025-01-31T13:27:34.300492+00:00', parent_config=None) \n",
      "\n"
     ]
    }
   ],
   "execution_count": 18
  },
  {
   "metadata": {
    "ExecuteTime": {
     "end_time": "2025-01-31T13:29:12.861797Z",
     "start_time": "2025-01-31T13:29:12.856294Z"
    }
   },
   "cell_type": "code",
   "source": [
    "states = []\n",
    "for state in graph.get_state_history(thread):\n",
    "    states.append(state.config)\n",
    "    print(state.config, state.values['count'])"
   ],
   "id": "94ab6d9a4b6186df",
   "outputs": [
    {
     "name": "stdout",
     "output_type": "stream",
     "text": [
      "{'configurable': {'thread_id': '10', 'thread_ts': '1efdfd72-1689-6a96-8004-675c8abfd1d0'}} 4\n",
      "{'configurable': {'thread_id': '10', 'thread_ts': '1efdfd72-167f-6e87-8003-1a1cf3d9d3be'}} 3\n",
      "{'configurable': {'thread_id': '10', 'thread_ts': '1efdfd72-1677-6c6f-8002-e2753d0af3ef'}} 2\n",
      "{'configurable': {'thread_id': '10', 'thread_ts': '1efdfd72-1667-6924-8001-025cfb6504f3'}} 1\n",
      "{'configurable': {'thread_id': '10', 'thread_ts': '1efdfd72-165a-6703-8000-41f7fb02bb39'}} 0\n",
      "{'configurable': {'thread_id': '10', 'thread_ts': '1efdfd72-1650-60fa-bfff-bf65bb766dbf'}} 0\n"
     ]
    }
   ],
   "execution_count": 19
  },
  {
   "metadata": {
    "ExecuteTime": {
     "end_time": "2025-01-31T13:29:34.561099Z",
     "start_time": "2025-01-31T13:29:34.555074Z"
    }
   },
   "cell_type": "code",
   "source": "states[-3]",
   "id": "3121e61dc846d41",
   "outputs": [
    {
     "data": {
      "text/plain": [
       "{'configurable': {'thread_id': '10',\n",
       "  'thread_ts': '1efdfd72-1667-6924-8001-025cfb6504f3'}}"
      ]
     },
     "execution_count": 20,
     "metadata": {},
     "output_type": "execute_result"
    }
   ],
   "execution_count": 20
  }
 ],
 "metadata": {
  "kernelspec": {
   "display_name": "Python 3",
   "language": "python",
   "name": "python3"
  },
  "language_info": {
   "codemirror_mode": {
    "name": "ipython",
    "version": 2
   },
   "file_extension": ".py",
   "mimetype": "text/x-python",
   "name": "python",
   "nbconvert_exporter": "python",
   "pygments_lexer": "ipython2",
   "version": "2.7.6"
  }
 },
 "nbformat": 4,
 "nbformat_minor": 5
}
